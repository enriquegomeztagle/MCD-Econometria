{
 "cells": [
  {
   "cell_type": "code",
   "execution_count": null,
   "id": "be738d07",
   "metadata": {},
   "outputs": [],
   "source": [
    "import pandas as pd\n",
    "import numpy as np\n",
    "\n",
    "import matplotlib.pyplot as plt\n",
    "\n",
    "from scipy import stats\n",
    "import statsmodels.api as sm\n",
    "import statsmodels.formula.api as smf\n",
    "\n",
    "import os\n",
    "from pathlib import Path"
   ]
  },
  {
   "cell_type": "code",
   "execution_count": null,
   "id": "ee3485db",
   "metadata": {},
   "outputs": [],
   "source": [
    "DATA_DIR = Path(\"../../data/\")\n",
    "DATA_DIR.mkdir(parents=True, exist_ok=True)\n",
    "\n",
    "PLOTS_DIR = Path(\"../../plots/python/\")\n",
    "PLOTS_DIR.mkdir(parents=True, exist_ok=True)\n",
    "\n",
    "TAB_OUT = Path(\"../../data/processed\")\n",
    "TAB_OUT.mkdir(parents=True, exist_ok=True)\n",
    "\n",
    "LATEX_OUT = Path(\"../../docs/latex_utils/tables\")\n",
    "LATEX_OUT.mkdir(parents=True, exist_ok=True)"
   ]
  },
  {
   "cell_type": "code",
   "execution_count": 14,
   "id": "3bf34023",
   "metadata": {},
   "outputs": [],
   "source": [
    "def save_plot(\n",
    "    plot: plt.Figure,\n",
    "    filename: str,\n",
    "    format: str = \"png\",\n",
    "    dpi: int = 300,\n",
    "    close: bool = True,\n",
    "):\n",
    "    PLOTS_DIR.mkdir(parents=True, exist_ok=True)\n",
    "    filepath = PLOTS_DIR / f\"{filename}.{format}\"\n",
    "    try:\n",
    "        plot.savefig(filepath, format=format, dpi=dpi, bbox_inches=\"tight\")\n",
    "        if close:\n",
    "            plt.close(plot)\n",
    "        print(\n",
    "            f\"\\nPlot {filename}.{format} saved correctly in {PLOTS_DIR}/{filename}.{format}\"\n",
    "        )\n",
    "    except Exception as e:\n",
    "        print(f\"\\nCould not save plot {filename}.{format}. Reason: {e}\")"
   ]
  },
  {
   "cell_type": "code",
   "execution_count": 15,
   "id": "6370d68e",
   "metadata": {},
   "outputs": [],
   "source": [
    "def save_latex_table(df, filename: str, rename_map: dict, caption: str, label: str):\n",
    "    try:\n",
    "        table_tex = df.rename(columns=rename_map).to_latex(\n",
    "            index=False,\n",
    "            float_format=\"%.4f\",\n",
    "            caption=caption,\n",
    "            label=label,\n",
    "        )\n",
    "        with open(LATEX_OUT / filename, \"w\") as f:\n",
    "            f.write(table_tex)\n",
    "        print(f\"\\nFile {filename} exported correctly in {LATEX_OUT}/{filename}\")\n",
    "    except Exception as e:\n",
    "        print(f\"\\nCould not export {filename}. Reason: {e}\")"
   ]
  },
  {
   "cell_type": "code",
   "execution_count": 16,
   "id": "139c24ba",
   "metadata": {},
   "outputs": [
    {
     "name": "stdout",
     "output_type": "stream",
     "text": [
      "  estado  educacion  ingreso  menores  urbano\n",
      "0     ME        189     2824    350.7     508\n",
      "1     NH        169     3259    345.9     564\n",
      "2     VT        230     3072    348.5     322\n",
      "3     MA        168     3835    335.3     846\n",
      "4     RI        180     3549    327.1     871\n",
      "\n",
      "File tabla_head_datos.tex exported correctly in ../../docs/latex_utils/tables/tabla_head_datos.tex\n"
     ]
    }
   ],
   "source": [
    "df = pd.read_excel(os.path.join(DATA_DIR, \"DatosPracticaRLM.xlsx\"), header=1)\n",
    "df = df.rename(columns={\"educación\": \"educacion\", \"Unnamed: 0\": \"estado\"})\n",
    "print(df.head())\n",
    "\n",
    "rename_map = {\n",
    "    \"estado\": \"Estado\",\n",
    "    \"educación\": \"Educación\",\n",
    "    \"ingreso\": \"Ingreso\",\n",
    "    \"menores\": \"Menores\",\n",
    "    \"urbano\": \"Urbano\",\n",
    "}\n",
    "\n",
    "save_latex_table(\n",
    "    df.head(),\n",
    "    filename=\"tabla_head_datos.tex\",\n",
    "    rename_map=rename_map,\n",
    "    caption=\"Primeras filas del conjunto de datos utilizado en el análisis\",\n",
    "    label=\"tab:head_datos\",\n",
    ")"
   ]
  },
  {
   "cell_type": "code",
   "execution_count": 17,
   "id": "3dacdbee",
   "metadata": {},
   "outputs": [
    {
     "name": "stdout",
     "output_type": "stream",
     "text": [
      "Promedio de la columna ingreso es: 3225.294117647059\n",
      "Promedio de la columna menores es: 358.8862745098039\n",
      "Promedio de la columna urbano es: 664.5098039215686\n"
     ]
    }
   ],
   "source": [
    "def get_avg_per_column(df: pd.DataFrame, column_name: str) -> pd.Series:\n",
    "    print(\"Promedio de la columna\", column_name, \"es:\", df[column_name].mean())\n",
    "\n",
    "\n",
    "get_avg_per_column(df, \"ingreso\")\n",
    "get_avg_per_column(df, \"menores\")\n",
    "get_avg_per_column(df, \"urbano\")"
   ]
  },
  {
   "cell_type": "code",
   "execution_count": 19,
   "id": "7c107df8",
   "metadata": {},
   "outputs": [
    {
     "name": "stdout",
     "output_type": "stream",
     "text": [
      "                            OLS Regression Results                            \n",
      "==============================================================================\n",
      "Dep. Variable:              educacion   R-squared:                       0.690\n",
      "Model:                            OLS   Adj. R-squared:                  0.670\n",
      "Method:                 Least Squares   F-statistic:                     34.81\n",
      "Date:                Sun, 07 Sep 2025   Prob (F-statistic):           5.34e-12\n",
      "Time:                        12:54:30   Log-Likelihood:                -237.79\n",
      "No. Observations:                  51   AIC:                             483.6\n",
      "Df Residuals:                      47   BIC:                             491.3\n",
      "Df Model:                           3                                         \n",
      "Covariance Type:            nonrobust                                         \n",
      "==============================================================================\n",
      "                 coef    std err          t      P>|t|      [0.025      0.975]\n",
      "------------------------------------------------------------------------------\n",
      "Intercept   -286.8388     64.920     -4.418      0.000    -417.441    -156.237\n",
      "ingreso        0.0807      0.009      8.674      0.000       0.062       0.099\n",
      "menores        0.8173      0.160      5.115      0.000       0.496       1.139\n",
      "urbano        -0.1058      0.034     -3.086      0.003      -0.175      -0.037\n",
      "==============================================================================\n",
      "Omnibus:                        0.074   Durbin-Watson:                   1.919\n",
      "Prob(Omnibus):                  0.964   Jarque-Bera (JB):                0.212\n",
      "Skew:                           0.079   Prob(JB):                        0.900\n",
      "Kurtosis:                       2.727   Cond. No.                     5.84e+04\n",
      "==============================================================================\n",
      "\n",
      "Notes:\n",
      "[1] Standard Errors assume that the covariance matrix of the errors is correctly specified.\n",
      "[2] The condition number is large, 5.84e+04. This might indicate that there are\n",
      "strong multicollinearity or other numerical problems.\n"
     ]
    }
   ],
   "source": [
    "model = smf.ols(\"educacion ~ ingreso + menores + urbano\", data=df).fit()\n",
    "print(model.summary())"
   ]
  },
  {
   "cell_type": "code",
   "execution_count": 21,
   "id": "f3045714",
   "metadata": {},
   "outputs": [
    {
     "name": "stdout",
     "output_type": "stream",
     "text": [
      "\n",
      "Tabla de coeficientes:\n",
      "            Coeficiente  Error Std.         t       p-valor     IC 2.5%  \\\n",
      "Parámetro                                                                \n",
      "Intercept  -286.838763   64.919932 -4.418347  5.823463e-05 -417.440819   \n",
      "ingreso       0.080653    0.009299  8.673756  2.563747e-11    0.061947   \n",
      "menores       0.817338    0.159790  5.115084  5.694503e-06    0.495882   \n",
      "urbano       -0.105806    0.034282 -3.086334  3.392812e-03   -0.174773   \n",
      "\n",
      "             IC 97.5%  \n",
      "Parámetro              \n",
      "Intercept -156.236706  \n",
      "ingreso      0.099359  \n",
      "menores      1.138793  \n",
      "urbano      -0.036839  \n",
      "\n",
      "File reg_multiple_coeficientes.tex exported correctly in ../../docs/latex_utils/tables/reg_multiple_coeficientes.tex\n"
     ]
    }
   ],
   "source": [
    "coef_table = pd.DataFrame(\n",
    "    {\n",
    "        \"Coeficiente\": model.params,\n",
    "        \"Error Std.\": model.bse,\n",
    "        \"t\": model.tvalues,\n",
    "        \"p-valor\": model.pvalues,\n",
    "    }\n",
    ")\n",
    "coef_table[\"IC 2.5%\"] = model.conf_int()[0]\n",
    "coef_table[\"IC 97.5%\"] = model.conf_int()[1]\n",
    "coef_table.index.name = \"Parámetro\"\n",
    "print(\"\\nTabla de coeficientes:\\n\", coef_table)\n",
    "\n",
    "rename_map = {\n",
    "    \"Coeficiente\": \"Coef.\",\n",
    "    \"Error Std.\": \"Err. Std.\",\n",
    "    \"p-valor\": \"p\",\n",
    "    \"IC 2.5%\": \"IC 2.5\\\\%\",\n",
    "    \"IC 97.5%\": \"IC 97.5\\\\%\",\n",
    "}\n",
    "\n",
    "coef_table_out = coef_table.reset_index().rename(columns={\"Parámetro\": \"Parámetro\"})\n",
    "save_latex_table(\n",
    "    df=coef_table_out.rename(columns=rename_map),\n",
    "    filename=\"reg_multiple_coeficientes.tex\",\n",
    "    rename_map={},\n",
    "    caption=\"Coeficientes del modelo OLS: Educación vs Ingreso, Menores y Urbano\",\n",
    "    label=\"tab:ols_coef_educacion\",\n",
    ")"
   ]
  },
  {
   "cell_type": "code",
   "execution_count": 23,
   "id": "e758c71e",
   "metadata": {},
   "outputs": [
    {
     "name": "stdout",
     "output_type": "stream",
     "text": [
      "   educacion       y_hat      resid\n",
      "0        189  173.816810  15.183190\n",
      "1        169  199.052606 -30.052606\n",
      "2        230  211.700632  18.299368\n",
      "3        168  207.007743 -39.007743\n",
      "4        180  174.593588   5.406412\n"
     ]
    }
   ],
   "source": [
    "df[\"y_hat\"] = model.fittedvalues\n",
    "df[\"resid\"] = model.resid\n",
    "print(df[[\"educacion\", \"y_hat\", \"resid\"]].head())"
   ]
  },
  {
   "cell_type": "code",
   "execution_count": 24,
   "id": "83986f7d",
   "metadata": {},
   "outputs": [
    {
     "name": "stdout",
     "output_type": "stream",
     "text": [
      "         Métrica         Valor\n",
      "0             R²  6.896288e-01\n",
      "1    R² ajustado  6.698179e-01\n",
      "2  Estadístico F  3.481053e+01\n",
      "3    p-valor (F)  5.336770e-12\n",
      "4            AIC  4.835767e+02\n",
      "5            BIC  4.913040e+02\n",
      "6  Observaciones  5.100000e+01\n",
      "\n",
      "File tabla_metricas_regresion.tex exported correctly in ../../docs/latex_utils/tables/tabla_metricas_regresion.tex\n"
     ]
    }
   ],
   "source": [
    "metrics = {\n",
    "    \"R²\": model.rsquared,\n",
    "    \"R² ajustado\": model.rsquared_adj,\n",
    "    \"Estadístico F\": model.fvalue,\n",
    "    \"p-valor (F)\": model.f_pvalue,\n",
    "    \"AIC\": model.aic,\n",
    "    \"BIC\": model.bic,\n",
    "    \"Observaciones\": model.nobs,\n",
    "}\n",
    "\n",
    "metrics_df = pd.DataFrame(list(metrics.items()), columns=[\"Métrica\", \"Valor\"])\n",
    "print(metrics_df)\n",
    "\n",
    "save_latex_table(\n",
    "    df=metrics_df,\n",
    "    filename=\"tabla_metricas_regresion.tex\",\n",
    "    rename_map={\"Métrica\": \"Métrica\", \"Valor\": \"Valor\"},\n",
    "    caption=\"Métricas globales del modelo de regresión lineal múltiple\",\n",
    "    label=\"tab:metricas_regresion\",\n",
    ")"
   ]
  },
  {
   "cell_type": "code",
   "execution_count": null,
   "id": "bdc9622b",
   "metadata": {},
   "outputs": [],
   "source": []
  }
 ],
 "metadata": {
  "kernelspec": {
   "display_name": "stats",
   "language": "python",
   "name": "python3"
  },
  "language_info": {
   "codemirror_mode": {
    "name": "ipython",
    "version": 3
   },
   "file_extension": ".py",
   "mimetype": "text/x-python",
   "name": "python",
   "nbconvert_exporter": "python",
   "pygments_lexer": "ipython3",
   "version": "3.11.11"
  }
 },
 "nbformat": 4,
 "nbformat_minor": 5
}
