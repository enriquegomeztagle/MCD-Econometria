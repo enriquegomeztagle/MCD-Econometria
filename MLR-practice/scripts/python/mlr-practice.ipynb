{
 "cells": [
  {
   "cell_type": "code",
   "execution_count": 10,
   "id": "be738d07",
   "metadata": {},
   "outputs": [],
   "source": [
    "import pandas as pd\n",
    "import numpy as np\n",
    "\n",
    "import matplotlib.pyplot as plt\n",
    "\n",
    "from scipy import stats\n",
    "import statsmodels.api as sm\n",
    "import statsmodels.formula.api as smf\n",
    "\n",
    "import os\n",
    "from pathlib import Path"
   ]
  },
  {
   "cell_type": "code",
   "execution_count": 11,
   "id": "ee3485db",
   "metadata": {},
   "outputs": [],
   "source": [
    "DATA_DIR = Path(\"../../data/\")\n",
    "DATA_DIR.mkdir(parents=True, exist_ok=True)\n",
    "\n",
    "PLOTS_DIR = Path(\"../../plots/python/\")\n",
    "PLOTS_DIR.mkdir(parents=True, exist_ok=True)\n",
    "\n",
    "TAB_OUT = Path(\"../../data/processed\")\n",
    "TAB_OUT.mkdir(parents=True, exist_ok=True)\n",
    "\n",
    "LATEX_OUT = Path(\"../../docs/latex_utils/tables\")\n",
    "LATEX_OUT.mkdir(parents=True, exist_ok=True)"
   ]
  },
  {
   "cell_type": "code",
   "execution_count": 12,
   "id": "3bf34023",
   "metadata": {},
   "outputs": [],
   "source": [
    "def save_plot(\n",
    "    plot: plt.Figure,\n",
    "    filename: str,\n",
    "    format: str = \"png\",\n",
    "    dpi: int = 300,\n",
    "    close: bool = True,\n",
    "):\n",
    "    PLOTS_DIR.mkdir(parents=True, exist_ok=True)\n",
    "    filepath = PLOTS_DIR / f\"{filename}.{format}\"\n",
    "    try:\n",
    "        plot.savefig(filepath, format=format, dpi=dpi, bbox_inches=\"tight\")\n",
    "        if close:\n",
    "            plt.close(plot)\n",
    "        print(\n",
    "            f\"Plot {filename}.{format} saved correctly in {PLOTS_DIR} + {filename}.{format}\"\n",
    "        )\n",
    "    except Exception as e:\n",
    "        print(f\"Could not save plot {filename}.{format}. Reason: {e}\")"
   ]
  },
  {
   "cell_type": "code",
   "execution_count": 13,
   "id": "6370d68e",
   "metadata": {},
   "outputs": [],
   "source": [
    "def save_latex_table(df, filename: str, rename_map: dict, caption: str, label: str):\n",
    "    try:\n",
    "        table_tex = df.rename(columns=rename_map).to_latex(\n",
    "            index=False,\n",
    "            float_format=\"%.4f\",\n",
    "            caption=caption,\n",
    "            label=label,\n",
    "        )\n",
    "        with open(LATEX_OUT / filename, \"w\") as f:\n",
    "            f.write(table_tex)\n",
    "        print(f\"File {filename} exported correctly in {LATEX_OUT} + {filename}\")\n",
    "    except Exception as e:\n",
    "        print(f\"Could not export {filename}. Reason: {e}\")"
   ]
  },
  {
   "cell_type": "code",
   "execution_count": 14,
   "id": "139c24ba",
   "metadata": {},
   "outputs": [
    {
     "name": "stdout",
     "output_type": "stream",
     "text": [
      "  Unnamed: 0  educación  ingreso  menores  urbano\n",
      "0         ME        189     2824    350.7     508\n",
      "1         NH        169     3259    345.9     564\n",
      "2         VT        230     3072    348.5     322\n",
      "3         MA        168     3835    335.3     846\n",
      "4         RI        180     3549    327.1     871\n"
     ]
    }
   ],
   "source": [
    "df = pd.read_excel(os.path.join(DATA_DIR, \"DatosPracticaRLM.xlsx\"), header=1)\n",
    "print(df.head())"
   ]
  },
  {
   "cell_type": "code",
   "execution_count": 15,
   "id": "708d71b5",
   "metadata": {},
   "outputs": [
    {
     "name": "stdout",
     "output_type": "stream",
     "text": [
      "File tabla_head_datos.tex exported correctly in ../../docs/latex_utils/tables + tabla_head_datos.tex\n"
     ]
    }
   ],
   "source": [
    "rename_map = {\n",
    "    \"Unnamed: 0\": \"Estado\",\n",
    "    \"educación\": \"Educación\",\n",
    "    \"ingreso\": \"Ingreso\",\n",
    "    \"menores\": \"Menores\",\n",
    "    \"urbano\": \"Urbano\",\n",
    "}\n",
    "\n",
    "save_latex_table(\n",
    "    df.head(),\n",
    "    filename=\"tabla_head_datos.tex\",\n",
    "    rename_map=rename_map,\n",
    "    caption=\"Primeras filas del conjunto de datos utilizado en el análisis\",\n",
    "    label=\"tab:head_datos\",\n",
    ")"
   ]
  },
  {
   "cell_type": "code",
   "execution_count": 16,
   "id": "3dacdbee",
   "metadata": {},
   "outputs": [
    {
     "name": "stdout",
     "output_type": "stream",
     "text": [
      "Promedio de la columna ingreso es: 3225.294117647059\n",
      "Promedio de la columna menores es: 358.8862745098039\n",
      "Promedio de la columna urbano es: 664.5098039215686\n"
     ]
    }
   ],
   "source": [
    "def get_avg_per_column(df: pd.DataFrame, column_name: str) -> pd.Series:\n",
    "    print(\"Promedio de la columna\", column_name, \"es:\", df[column_name].mean())\n",
    "\n",
    "\n",
    "get_avg_per_column(df, \"ingreso\")\n",
    "get_avg_per_column(df, \"menores\")\n",
    "get_avg_per_column(df, \"urbano\")"
   ]
  },
  {
   "cell_type": "code",
   "execution_count": null,
   "id": "4f7f21e5",
   "metadata": {},
   "outputs": [],
   "source": []
  }
 ],
 "metadata": {
  "kernelspec": {
   "display_name": "stats",
   "language": "python",
   "name": "python3"
  },
  "language_info": {
   "codemirror_mode": {
    "name": "ipython",
    "version": 3
   },
   "file_extension": ".py",
   "mimetype": "text/x-python",
   "name": "python",
   "nbconvert_exporter": "python",
   "pygments_lexer": "ipython3",
   "version": "3.11.11"
  }
 },
 "nbformat": 4,
 "nbformat_minor": 5
}
