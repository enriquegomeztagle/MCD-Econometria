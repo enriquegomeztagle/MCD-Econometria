{
 "cells": [
  {
   "cell_type": "code",
   "execution_count": 34,
   "id": "be738d07",
   "metadata": {},
   "outputs": [],
   "source": [
    "import pandas as pd\n",
    "import numpy as np\n",
    "\n",
    "import matplotlib.pyplot as plt\n",
    "\n",
    "from scipy import stats\n",
    "import statsmodels.api as sm\n",
    "import statsmodels.formula.api as smf\n",
    "\n",
    "import os\n",
    "from pathlib import Path"
   ]
  },
  {
   "cell_type": "code",
   "execution_count": 35,
   "id": "ee3485db",
   "metadata": {},
   "outputs": [],
   "source": [
    "DATA_DIR = Path(\"../../data/\")\n",
    "DATA_DIR.mkdir(parents=True, exist_ok=True)\n",
    "\n",
    "PLOTS_DIR = Path(\"../../plots/python/\")\n",
    "PLOTS_DIR.mkdir(parents=True, exist_ok=True)\n",
    "\n",
    "TAB_OUT = Path(\"../../data/processed\")\n",
    "TAB_OUT.mkdir(parents=True, exist_ok=True)\n",
    "\n",
    "LATEX_OUT = Path(\"../../docs/latex_utils/tables\")\n",
    "LATEX_OUT.mkdir(parents=True, exist_ok=True)"
   ]
  },
  {
   "cell_type": "code",
   "execution_count": 36,
   "id": "3bf34023",
   "metadata": {},
   "outputs": [],
   "source": [
    "def save_plot(\n",
    "    plot: plt.Figure,\n",
    "    filename: str,\n",
    "    format: str = \"png\",\n",
    "    dpi: int = 300,\n",
    "    close: bool = True,\n",
    "):\n",
    "    PLOTS_DIR.mkdir(parents=True, exist_ok=True)\n",
    "    filepath = PLOTS_DIR / f\"{filename}.{format}\"\n",
    "    try:\n",
    "        plot.savefig(filepath, format=format, dpi=dpi, bbox_inches=\"tight\")\n",
    "        if close:\n",
    "            plt.close(plot)\n",
    "        print(\n",
    "            f\"\\nPlot {filename}.{format} saved correctly in {PLOTS_DIR}/{filename}.{format}\"\n",
    "        )\n",
    "    except Exception as e:\n",
    "        print(f\"\\nCould not save plot {filename}.{format}. Reason: {e}\")"
   ]
  },
  {
   "cell_type": "code",
   "execution_count": 37,
   "id": "6370d68e",
   "metadata": {},
   "outputs": [],
   "source": [
    "def save_latex_table(df, filename: str, rename_map: dict, caption: str, label: str):\n",
    "    try:\n",
    "        table_tex = df.rename(columns=rename_map).to_latex(\n",
    "            index=False,\n",
    "            float_format=\"%.4f\",\n",
    "            caption=caption,\n",
    "            label=label,\n",
    "        )\n",
    "        with open(LATEX_OUT / filename, \"w\") as f:\n",
    "            f.write(table_tex)\n",
    "        print(f\"\\nFile {filename} exported correctly in {LATEX_OUT}/{filename}\")\n",
    "    except Exception as e:\n",
    "        print(f\"\\nCould not export {filename}. Reason: {e}\")"
   ]
  },
  {
   "cell_type": "code",
   "execution_count": 38,
   "id": "139c24ba",
   "metadata": {},
   "outputs": [
    {
     "name": "stdout",
     "output_type": "stream",
     "text": [
      "  estado  educacion  ingreso  menores  urbano\n",
      "0     ME        189     2824    350.7     508\n",
      "1     NH        169     3259    345.9     564\n",
      "2     VT        230     3072    348.5     322\n",
      "3     MA        168     3835    335.3     846\n",
      "4     RI        180     3549    327.1     871\n",
      "\n",
      "File tabla_head_datos.tex exported correctly in ../../docs/latex_utils/tables/tabla_head_datos.tex\n"
     ]
    }
   ],
   "source": [
    "df = pd.read_excel(os.path.join(DATA_DIR, \"DatosPracticaRLM.xlsx\"), header=1)\n",
    "df = df.rename(columns={\"educación\": \"educacion\", \"Unnamed: 0\": \"estado\"})\n",
    "print(df.head())\n",
    "\n",
    "rename_map = {\n",
    "    \"estado\": \"Estado\",\n",
    "    \"educación\": \"Educación\",\n",
    "    \"ingreso\": \"Ingreso\",\n",
    "    \"menores\": \"Menores\",\n",
    "    \"urbano\": \"Urbano\",\n",
    "}\n",
    "\n",
    "save_latex_table(\n",
    "    df.head(),\n",
    "    filename=\"tabla_head_datos.tex\",\n",
    "    rename_map=rename_map,\n",
    "    caption=\"Primeras filas del conjunto de datos utilizado en el análisis\",\n",
    "    label=\"tab:head_datos\",\n",
    ")"
   ]
  },
  {
   "cell_type": "code",
   "execution_count": 39,
   "id": "3dacdbee",
   "metadata": {},
   "outputs": [
    {
     "name": "stdout",
     "output_type": "stream",
     "text": [
      "Promedio de la columna ingreso es: 3225.294117647059\n",
      "Promedio de la columna menores es: 358.8862745098039\n",
      "Promedio de la columna urbano es: 664.5098039215686\n"
     ]
    }
   ],
   "source": [
    "def get_avg_per_column(df: pd.DataFrame, column_name: str) -> pd.Series:\n",
    "    print(\"Promedio de la columna\", column_name, \"es:\", df[column_name].mean())\n",
    "\n",
    "\n",
    "get_avg_per_column(df, \"ingreso\")\n",
    "get_avg_per_column(df, \"menores\")\n",
    "get_avg_per_column(df, \"urbano\")"
   ]
  },
  {
   "cell_type": "code",
   "execution_count": 40,
   "id": "7c107df8",
   "metadata": {},
   "outputs": [
    {
     "name": "stdout",
     "output_type": "stream",
     "text": [
      "                            OLS Regression Results                            \n",
      "==============================================================================\n",
      "Dep. Variable:              educacion   R-squared:                       0.690\n",
      "Model:                            OLS   Adj. R-squared:                  0.670\n",
      "Method:                 Least Squares   F-statistic:                     34.81\n",
      "Date:                Sun, 07 Sep 2025   Prob (F-statistic):           5.34e-12\n",
      "Time:                        13:06:33   Log-Likelihood:                -237.79\n",
      "No. Observations:                  51   AIC:                             483.6\n",
      "Df Residuals:                      47   BIC:                             491.3\n",
      "Df Model:                           3                                         \n",
      "Covariance Type:            nonrobust                                         \n",
      "==============================================================================\n",
      "                 coef    std err          t      P>|t|      [0.025      0.975]\n",
      "------------------------------------------------------------------------------\n",
      "Intercept   -286.8388     64.920     -4.418      0.000    -417.441    -156.237\n",
      "ingreso        0.0807      0.009      8.674      0.000       0.062       0.099\n",
      "menores        0.8173      0.160      5.115      0.000       0.496       1.139\n",
      "urbano        -0.1058      0.034     -3.086      0.003      -0.175      -0.037\n",
      "==============================================================================\n",
      "Omnibus:                        0.074   Durbin-Watson:                   1.919\n",
      "Prob(Omnibus):                  0.964   Jarque-Bera (JB):                0.212\n",
      "Skew:                           0.079   Prob(JB):                        0.900\n",
      "Kurtosis:                       2.727   Cond. No.                     5.84e+04\n",
      "==============================================================================\n",
      "\n",
      "Notes:\n",
      "[1] Standard Errors assume that the covariance matrix of the errors is correctly specified.\n",
      "[2] The condition number is large, 5.84e+04. This might indicate that there are\n",
      "strong multicollinearity or other numerical problems.\n"
     ]
    }
   ],
   "source": [
    "model = smf.ols(\"educacion ~ ingreso + menores + urbano\", data=df).fit()\n",
    "print(model.summary())"
   ]
  },
  {
   "cell_type": "code",
   "execution_count": 41,
   "id": "f3045714",
   "metadata": {},
   "outputs": [
    {
     "name": "stdout",
     "output_type": "stream",
     "text": [
      "\n",
      "Tabla de coeficientes:\n",
      "            Coeficiente  Error Std.         t       p-valor     IC 2.5%  \\\n",
      "Parámetro                                                                \n",
      "Intercept  -286.838763   64.919932 -4.418347  5.823463e-05 -417.440819   \n",
      "ingreso       0.080653    0.009299  8.673756  2.563747e-11    0.061947   \n",
      "menores       0.817338    0.159790  5.115084  5.694503e-06    0.495882   \n",
      "urbano       -0.105806    0.034282 -3.086334  3.392812e-03   -0.174773   \n",
      "\n",
      "             IC 97.5%  \n",
      "Parámetro              \n",
      "Intercept -156.236706  \n",
      "ingreso      0.099359  \n",
      "menores      1.138793  \n",
      "urbano      -0.036839  \n",
      "\n",
      "File reg_multiple_coeficientes.tex exported correctly in ../../docs/latex_utils/tables/reg_multiple_coeficientes.tex\n"
     ]
    }
   ],
   "source": [
    "coef_table = pd.DataFrame(\n",
    "    {\n",
    "        \"Coeficiente\": model.params,\n",
    "        \"Error Std.\": model.bse,\n",
    "        \"t\": model.tvalues,\n",
    "        \"p-valor\": model.pvalues,\n",
    "    }\n",
    ")\n",
    "coef_table[\"IC 2.5%\"] = model.conf_int()[0]\n",
    "coef_table[\"IC 97.5%\"] = model.conf_int()[1]\n",
    "coef_table.index.name = \"Parámetro\"\n",
    "print(\"\\nTabla de coeficientes:\\n\", coef_table)\n",
    "\n",
    "rename_map = {\n",
    "    \"Coeficiente\": \"Coef.\",\n",
    "    \"Error Std.\": \"Err. Std.\",\n",
    "    \"p-valor\": \"p\",\n",
    "    \"IC 2.5%\": \"IC 2.5\\\\%\",\n",
    "    \"IC 97.5%\": \"IC 97.5\\\\%\",\n",
    "}\n",
    "\n",
    "coef_table_out = coef_table.reset_index().rename(columns={\"Parámetro\": \"Parámetro\"})\n",
    "save_latex_table(\n",
    "    df=coef_table_out.rename(columns=rename_map),\n",
    "    filename=\"reg_multiple_coeficientes.tex\",\n",
    "    rename_map={},\n",
    "    caption=\"Coeficientes del modelo OLS: Educación vs Ingreso, Menores y Urbano\",\n",
    "    label=\"tab:ols_coef_educacion\",\n",
    ")"
   ]
  },
  {
   "cell_type": "code",
   "execution_count": 42,
   "id": "e758c71e",
   "metadata": {},
   "outputs": [
    {
     "name": "stdout",
     "output_type": "stream",
     "text": [
      "   educacion       y_hat      resid\n",
      "0        189  173.816810  15.183190\n",
      "1        169  199.052606 -30.052606\n",
      "2        230  211.700632  18.299368\n",
      "3        168  207.007743 -39.007743\n",
      "4        180  174.593588   5.406412\n"
     ]
    }
   ],
   "source": [
    "df[\"y_hat\"] = model.fittedvalues\n",
    "df[\"resid\"] = model.resid\n",
    "print(df[[\"educacion\", \"y_hat\", \"resid\"]].head())"
   ]
  },
  {
   "cell_type": "code",
   "execution_count": 43,
   "id": "83986f7d",
   "metadata": {},
   "outputs": [
    {
     "name": "stdout",
     "output_type": "stream",
     "text": [
      "         Métrica         Valor\n",
      "0             R²  6.896288e-01\n",
      "1    R² ajustado  6.698179e-01\n",
      "2  Estadístico F  3.481053e+01\n",
      "3    p-valor (F)  5.336770e-12\n",
      "4            AIC  4.835767e+02\n",
      "5            BIC  4.913040e+02\n",
      "6  Observaciones  5.100000e+01\n",
      "\n",
      "File tabla_metricas_regresion.tex exported correctly in ../../docs/latex_utils/tables/tabla_metricas_regresion.tex\n"
     ]
    }
   ],
   "source": [
    "metrics = {\n",
    "    \"R²\": model.rsquared,\n",
    "    \"R² ajustado\": model.rsquared_adj,\n",
    "    \"Estadístico F\": model.fvalue,\n",
    "    \"p-valor (F)\": model.f_pvalue,\n",
    "    \"AIC\": model.aic,\n",
    "    \"BIC\": model.bic,\n",
    "    \"Observaciones\": model.nobs,\n",
    "}\n",
    "\n",
    "metrics_df = pd.DataFrame(list(metrics.items()), columns=[\"Métrica\", \"Valor\"])\n",
    "print(metrics_df)\n",
    "\n",
    "save_latex_table(\n",
    "    df=metrics_df,\n",
    "    filename=\"tabla_metricas_regresion.tex\",\n",
    "    rename_map={\"Métrica\": \"Métrica\", \"Valor\": \"Valor\"},\n",
    "    caption=\"Métricas globales del modelo de regresión lineal múltiple\",\n",
    "    label=\"tab:metricas_regresion\",\n",
    ")"
   ]
  },
  {
   "cell_type": "code",
   "execution_count": 44,
   "id": "bdc9622b",
   "metadata": {},
   "outputs": [
    {
     "name": "stdout",
     "output_type": "stream",
     "text": [
      "Estimación de la varianza del error (S²): 712.5393945675286\n",
      "\n",
      "Errores estándar de los coeficientes:\n",
      "Intercept    64.919932\n",
      "ingreso       0.009299\n",
      "menores       0.159790\n",
      "urbano        0.034282\n",
      "dtype: float64\n",
      "\n",
      "File varianza_error.tex exported correctly in ../../docs/latex_utils/tables/varianza_error.tex\n",
      "\n",
      "File tabla_coeficientes.tex exported correctly in ../../docs/latex_utils/tables/tabla_coeficientes.tex\n",
      "\n",
      "File matriz_covarianzas_parametros.tex exported correctly in ../../docs/latex_utils/tables/matriz_covarianzas_parametros.tex\n"
     ]
    }
   ],
   "source": [
    "S2 = model.ssr / model.df_resid\n",
    "cov_matrix = model.cov_params()\n",
    "std_errors = model.bse\n",
    "print(\"Estimación de la varianza del error (S²):\", S2)\n",
    "print(\"\\nErrores estándar de los coeficientes:\")\n",
    "print(std_errors)\n",
    "\n",
    "S2_df = pd.DataFrame({\"Métrica\": [\"S^2 (Varianza del error)\"], \"Valor\": [S2]})\n",
    "save_latex_table(\n",
    "    df=S2_df,\n",
    "    filename=\"varianza_error.tex\",\n",
    "    rename_map={\"Métrica\": \"Métrica\", \"Valor\": \"Valor\"},\n",
    "    caption=\"Estimación de la varianza del error $S^2$ del modelo OLS.\",\n",
    "    label=\"tab:varianza_error\",\n",
    ")\n",
    "\n",
    "coef_df = pd.DataFrame(\n",
    "    {\n",
    "        \"Coeficiente\": model.params,\n",
    "        \"Error Estándar\": model.bse,\n",
    "        \"t-valor\": model.tvalues,\n",
    "        \"p-valor\": model.pvalues,\n",
    "    }\n",
    ")\n",
    "\n",
    "save_latex_table(\n",
    "    df=coef_df,\n",
    "    filename=\"tabla_coeficientes.tex\",\n",
    "    rename_map={\n",
    "        \"Coeficiente\": \"Coeficiente\",\n",
    "        \"Error Estándar\": \"Error Estándar\",\n",
    "        \"t-valor\": \"t\",\n",
    "        \"p-valor\": \"p\",\n",
    "    },\n",
    "    caption=\"Estimaciones, errores estándar y pruebas t de los coeficientes del modelo\",\n",
    "    label=\"tab:coeficientes_regresion\",\n",
    ")\n",
    "\n",
    "cov_df = cov_matrix.copy()\n",
    "cov_df.index.name = \"Parámetro\"\n",
    "cov_df = cov_df.reset_index()\n",
    "\n",
    "save_latex_table(\n",
    "    df=cov_df,\n",
    "    filename=\"matriz_covarianzas_parametros.tex\",\n",
    "    rename_map={},\n",
    "    caption=\"Matriz de covarianzas de los estimadores del modelo OLS.\",\n",
    "    label=\"tab:covarianzas_parametros\",\n",
    ")"
   ]
  },
  {
   "cell_type": "code",
   "execution_count": 45,
   "id": "fbffa7c7",
   "metadata": {},
   "outputs": [
    {
     "name": "stdout",
     "output_type": "stream",
     "text": [
      "Intervalo de confianza al 90% para β2 (Ingreso):\n",
      "[0.0651, 0.0963]\n",
      "\n",
      "File intervalo_confianza_beta2.tex exported correctly in ../../docs/latex_utils/tables/intervalo_confianza_beta2.tex\n"
     ]
    }
   ],
   "source": [
    "conf_int = 0.9\n",
    "alpha = 1 - conf_int\n",
    "\n",
    "conf_int_90 = model.conf_int(alpha=alpha)\n",
    "conf_int_90.columns = [\"Límite inferior\", \"Límite superior\"]\n",
    "\n",
    "beta2_ci = conf_int_90.loc[[\"ingreso\"]]\n",
    "print(\"Intervalo de confianza al 90% para β2 (Ingreso):\")\n",
    "print(\n",
    "    f\"[{beta2_ci['Límite inferior'].values[0]:.4f}, {beta2_ci['Límite superior'].values[0]:.4f}]\"\n",
    ")\n",
    "\n",
    "save_latex_table(\n",
    "    df=beta2_ci.reset_index().rename(columns={\"index\": \"Parámetro\"}),\n",
    "    filename=\"intervalo_confianza_beta2.tex\",\n",
    "    rename_map={\n",
    "        \"index\": \"Parámetro\",\n",
    "        \"Límite inferior\": \"Límite inferior\",\n",
    "        \"Límite superior\": \"Límite superior\",\n",
    "    },\n",
    "    caption=\"Intervalo de confianza del 90\\% para el coeficiente $\\\\beta_2$ (Ingreso).\",\n",
    "    label=\"tab:ci_beta2\",\n",
    ")"
   ]
  },
  {
   "cell_type": "code",
   "execution_count": 49,
   "id": "042c5989",
   "metadata": {},
   "outputs": [
    {
     "name": "stdout",
     "output_type": "stream",
     "text": [
      "             Variable  Valor promedio\n",
      "0             Ingreso         3225.29\n",
      "1             Menores          358.89\n",
      "2              Urbano          664.51\n",
      "3  Educación esperada          196.31\n",
      "\n",
      "File tabla_prediccion_media.tex exported correctly in ../../docs/latex_utils/tables/tabla_prediccion_media.tex\n"
     ]
    }
   ],
   "source": [
    "x_means = df[[\"ingreso\", \"menores\", \"urbano\"]].mean()\n",
    "\n",
    "y_hat_mean = (\n",
    "    model.params[\"Intercept\"]\n",
    "    + model.params[\"ingreso\"] * x_means[\"ingreso\"]\n",
    "    + model.params[\"menores\"] * x_means[\"menores\"]\n",
    "    + model.params[\"urbano\"] * x_means[\"urbano\"]\n",
    ")\n",
    "\n",
    "mean_point_df = pd.DataFrame(\n",
    "    {\n",
    "        \"Variable\": [\"Ingreso\", \"Menores\", \"Urbano\", \"Educación esperada\"],\n",
    "        \"Valor promedio\": [\n",
    "            round(x_means[\"ingreso\"], 2),\n",
    "            round(x_means[\"menores\"], 2),\n",
    "            round(x_means[\"urbano\"], 2),\n",
    "            round(y_hat_mean, 2),\n",
    "        ],\n",
    "    }\n",
    ")\n",
    "\n",
    "print(mean_point_df)\n",
    "\n",
    "save_latex_table(\n",
    "    df=mean_point_df,\n",
    "    filename=\"tabla_prediccion_media.tex\",\n",
    "    rename_map={\"Variable\": \"Variable\", \"Valor promedio\": \"Valor promedio\"},\n",
    "    caption=\"Valores promedio de los regresores y gasto en educación esperado en el punto promedio\",\n",
    "    label=\"tab:prediccion_media\",\n",
    ")"
   ]
  },
  {
   "cell_type": "code",
   "execution_count": 50,
   "id": "c6d73bad",
   "metadata": {},
   "outputs": [
    {
     "name": "stdout",
     "output_type": "stream",
     "text": [
      "Hipótesis:\n",
      "H0: β1 = β2 = β3 = 0 (el modelo no tiene poder explicativo)\n",
      "H1: Al menos un βj ≠ 0\n",
      "\n",
      "Estadístico F: 34.81053324433928\n",
      "Grados de libertad: 3 y 47\n",
      "Valor crítico F (α=0.05): 2.80235517609617\n",
      "p-valor (F): 5.3367704333372054e-12\n",
      "\n",
      "Conclusión: Se RECHAZA H0: el modelo es globalmente significativo.\n",
      "\n",
      "File prueba_F_modelo.tex exported correctly in ../../docs/latex_utils/tables/prueba_F_modelo.tex\n"
     ]
    }
   ],
   "source": [
    "n = int(model.nobs)\n",
    "k = int(model.df_model)\n",
    "df1 = k\n",
    "df2 = int(model.df_resid)\n",
    "\n",
    "F_stat = model.fvalue\n",
    "p_value_F = model.f_pvalue\n",
    "\n",
    "alpha = 0.05\n",
    "F_crit = stats.f.ppf(1 - alpha, df1, df2)\n",
    "\n",
    "print(\"Hipótesis:\")\n",
    "print(\"H0: β1 = β2 = β3 = 0 (el modelo no tiene poder explicativo)\")\n",
    "print(\"H1: Al menos un βj ≠ 0\")\n",
    "\n",
    "print(\"\\nEstadístico F:\", F_stat)\n",
    "print(\"Grados de libertad:\", df1, \"y\", df2)\n",
    "print(\"Valor crítico F (α=0.05):\", F_crit)\n",
    "print(\"p-valor (F):\", p_value_F)\n",
    "\n",
    "if F_stat > F_crit:\n",
    "    conclusion = \"Se RECHAZA H0: el modelo es globalmente significativo.\"\n",
    "else:\n",
    "    conclusion = \"No se rechaza H0: el modelo no es significativo.\"\n",
    "\n",
    "print(\"\\nConclusión:\", conclusion)\n",
    "\n",
    "f_test_df = pd.DataFrame(\n",
    "    {\n",
    "        \"Estadístico\": [\"F observado\", \"F crítico (α=0.05)\", \"p-valor\", \"gl1\", \"gl2\"],\n",
    "        \"Valor\": [round(F_stat, 3), round(F_crit, 3), f\"{p_value_F:.3g}\", df1, df2],\n",
    "    }\n",
    ")\n",
    "\n",
    "save_latex_table(\n",
    "    df=f_test_df,\n",
    "    filename=\"prueba_F_modelo.tex\",\n",
    "    rename_map={\"Estadístico\": \"Estadístico\", \"Valor\": \"Valor\"},\n",
    "    caption=\"Prueba de significancia global del modelo de regresión (estadístico F).\",\n",
    "    label=\"tab:prueba_f\",\n",
    ")"
   ]
  },
  {
   "cell_type": "code",
   "execution_count": 52,
   "id": "51f653e3",
   "metadata": {},
   "outputs": [
    {
     "name": "stdout",
     "output_type": "stream",
     "text": [
      "                     Elemento  \\\n",
      "0         Hipótesis nula (H0)   \n",
      "1  Hipótesis alternativa (H1)   \n",
      "2                  Conclusión   \n",
      "\n",
      "                                           Expresión  \n",
      "0  $\\beta_1 = \\beta_2 = \\beta_3 = 0$ (el modelo n...  \n",
      "1                       Al menos un $\\beta_j \\neq 0$  \n",
      "2  Se RECHAZA H0: el modelo es globalmente signif...  \n",
      "\n",
      "File hipotesis_y_conclusion.tex exported correctly in ../../docs/latex_utils/tables/hipotesis_y_conclusion.tex\n"
     ]
    }
   ],
   "source": [
    "hipotesis_df = pd.DataFrame(\n",
    "    {\n",
    "        \"Elemento\": [\"Hipótesis nula (H0)\", \"Hipótesis alternativa (H1)\", \"Conclusión\"],\n",
    "        \"Expresión\": [\n",
    "            r\"$\\beta_1 = \\beta_2 = \\beta_3 = 0$ (el modelo no es significativo)\",\n",
    "            r\"Al menos un $\\beta_j \\neq 0$\",\n",
    "            conclusion,\n",
    "        ],\n",
    "    }\n",
    ")\n",
    "\n",
    "print(hipotesis_df)\n",
    "\n",
    "save_latex_table(\n",
    "    df=hipotesis_df,\n",
    "    filename=\"hipotesis_y_conclusion.tex\",\n",
    "    rename_map={\"Elemento\": \"Elemento\", \"Expresión\": \"Descripción\"},\n",
    "    caption=\"Hipótesis y conclusión de la prueba F global del modelo de regresión\",\n",
    "    label=\"tab:hipotesis_conclusion\",\n",
    ")"
   ]
  },
  {
   "cell_type": "code",
   "execution_count": null,
   "id": "22e4b641",
   "metadata": {},
   "outputs": [],
   "source": []
  }
 ],
 "metadata": {
  "kernelspec": {
   "display_name": "stats",
   "language": "python",
   "name": "python3"
  },
  "language_info": {
   "codemirror_mode": {
    "name": "ipython",
    "version": 3
   },
   "file_extension": ".py",
   "mimetype": "text/x-python",
   "name": "python",
   "nbconvert_exporter": "python",
   "pygments_lexer": "ipython3",
   "version": "3.11.11"
  }
 },
 "nbformat": 4,
 "nbformat_minor": 5
}
