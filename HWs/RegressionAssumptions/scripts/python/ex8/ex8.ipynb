{
 "cells": [
  {
   "cell_type": "code",
   "execution_count": null,
   "id": "5c1e644e",
   "metadata": {},
   "outputs": [],
   "source": [
    "import pandas as pd\n",
    "import numpy as np\n",
    "\n",
    "import matplotlib.pyplot as plt\n",
    "\n",
    "from scipy import stats\n",
    "import statsmodels.api as sm\n",
    "import statsmodels.formula.api as smf\n",
    "\n",
    "from statsmodels.graphics.gofplots import qqplot\n",
    "from statsmodels.graphics.tsaplots import plot_acf\n",
    "from statsmodels.stats.diagnostic import het_breuschpagan, het_white, linear_reset\n",
    "from statsmodels.stats.diagnostic import acorr_breusch_godfrey\n",
    "\n",
    "import os\n",
    "from pathlib import Path"
   ]
  },
  {
   "cell_type": "code",
   "execution_count": 95,
   "id": "e2bf79a4",
   "metadata": {},
   "outputs": [],
   "source": [
    "DATA_DIR = Path(\"../../../data/\")\n",
    "DATA_DIR.mkdir(parents=True, exist_ok=True)\n",
    "\n",
    "LATEX_OUT = Path(\"../../../docs/latex_utils/tables\")\n",
    "LATEX_OUT.mkdir(parents=True, exist_ok=True)\n",
    "\n",
    "PLOTS_DIR = Path(\"../../../plots/python/ex8/\")\n",
    "PLOTS_DIR.mkdir(parents=True, exist_ok=True)"
   ]
  },
  {
   "cell_type": "code",
   "execution_count": 96,
   "metadata": {},
   "outputs": [],
   "source": [
    "def save_plot(\n",
    "    plot: plt.Figure,\n",
    "    filename: str,\n",
    "    format: str = \"png\",\n",
    "    dpi: int = 300,\n",
    "    close: bool = True,\n",
    "):\n",
    "    PLOTS_DIR.mkdir(parents=True, exist_ok=True)\n",
    "    filepath = PLOTS_DIR / f\"{filename}.{format}\"\n",
    "    try:\n",
    "        plot.savefig(filepath, format=format, dpi=dpi, bbox_inches=\"tight\")\n",
    "        if close:\n",
    "            plt.close(plot)\n",
    "        print(\n",
    "            f\"\\nPlot {filename}.{format} saved correctly in {PLOTS_DIR}/{filename}.{format}\"\n",
    "        )\n",
    "    except Exception as e:\n",
    "        print(f\"\\nCould not save plot {filename}.{format}. Reason: {e}\")"
   ]
  },
  {
   "cell_type": "code",
   "execution_count": 97,
   "id": "64c234fa",
   "metadata": {},
   "outputs": [],
   "source": [
    "def save_latex_table(df, filename: str, rename_map: dict, caption: str, label: str):\n",
    "    try:\n",
    "        table_tex = df.rename(columns=rename_map).to_latex(\n",
    "            index=False,\n",
    "            float_format=\"%.4f\",\n",
    "            caption=caption,\n",
    "            label=label,\n",
    "        )\n",
    "        with open(LATEX_OUT / filename, \"w\") as f:\n",
    "            f.write(table_tex)\n",
    "        print(f\"\\nFile {filename} exported correctly in {LATEX_OUT}/{filename}\")\n",
    "    except Exception as e:\n",
    "        print(f\"\\nCould not export {filename}. Reason: {e}\")"
   ]
  },
  {
   "cell_type": "code",
   "execution_count": 98,
   "id": "22fdad4b",
   "metadata": {},
   "outputs": [
    {
     "name": "stdout",
     "output_type": "stream",
     "text": [
      "   Year  Sales  Inventories     Ratio\n",
      "0  1950  46486        84646  1.820892\n",
      "1  1951  50229        90560  1.802943\n",
      "2  1952  53501        98145  1.834452\n",
      "3  1953  52805       101599  1.924041\n",
      "4  1954  55906       102567  1.834633\n"
     ]
    }
   ],
   "source": [
    "df = pd.read_excel(os.path.join(DATA_DIR, \"Table12_9.xls\"))\n",
    "print(df.head())"
   ]
  },
  {
   "cell_type": "code",
   "execution_count": 99,
   "id": "7057f824",
   "metadata": {},
   "outputs": [
    {
     "name": "stdout",
     "output_type": "stream",
     "text": [
      "\n",
      "Dimensiones: (41, 4)\n",
      "\n",
      "Descripción estadística básica:\n",
      "              count           mean            std          min           25%  \\\n",
      "year          41.0    1970.000000      11.979149   1950.00000    1960.00000   \n",
      "sales         41.0  208038.658537  107874.906465  46486.00000  113201.00000   \n",
      "inventories   41.0  312958.121951  131513.466995  84646.00000  188378.00000   \n",
      "ratio         41.0       1.600934       0.208567      1.21411       1.43618   \n",
      "\n",
      "                       50%            75%            max  \n",
      "year           1970.000000    1980.000000    1990.000000  \n",
      "sales        206326.000000  299766.000000  411663.000000  \n",
      "inventories  339516.000000  423082.000000  509902.000000  \n",
      "ratio             1.657551       1.767625       1.924041  \n"
     ]
    }
   ],
   "source": [
    "cols_map = {\n",
    "    \"Year\": \"year\",\n",
    "    \"Sales\": \"sales\",\n",
    "    \"Inventories\": \"inventories\",\n",
    "    \"Ratio\": \"ratio\",\n",
    "}\n",
    "df = df.rename(columns=cols_map)\n",
    "\n",
    "numeric_cols = [\"year\", \"sales\", \"inventories\", \"ratio\"]\n",
    "df[numeric_cols] = df[numeric_cols].apply(pd.to_numeric, errors=\"coerce\")\n",
    "df = df.sort_values(\"year\").reset_index(drop=True)\n",
    "\n",
    "print(\"\\nDimensiones:\", df.shape)\n",
    "print(\"\\nDescripción estadística básica:\\n\", df.describe().T)"
   ]
  },
  {
   "cell_type": "code",
   "execution_count": 100,
   "id": "2ff3e69b",
   "metadata": {},
   "outputs": [
    {
     "name": "stdout",
     "output_type": "stream",
     "text": [
      "\n",
      "File ex8_descriptivos.tex exported correctly in ../../../docs/latex_utils/tables/ex8_descriptivos.tex\n"
     ]
    }
   ],
   "source": [
    "desc = (\n",
    "    df[[\"sales\", \"inventories\", \"ratio\"]]\n",
    "    .describe()\n",
    "    .T.reset_index()\n",
    "    .rename(columns={\"index\": \"variable\"})\n",
    ")\n",
    "save_latex_table(\n",
    "    desc,\n",
    "    filename=\"ex8_descriptivos.tex\",\n",
    "    rename_map={\n",
    "        \"variable\": \"Variable\",\n",
    "        \"count\": \"N\",\n",
    "        \"mean\": \"Media\",\n",
    "        \"std\": \"Desv.Est.\",\n",
    "        \"min\": \"Mínimo\",\n",
    "        \"25%\": \"P25\",\n",
    "        \"50%\": \"P50\",\n",
    "        \"75%\": \"P75\",\n",
    "        \"max\": \"Máximo\",\n",
    "    },\n",
    "    caption=\"Estadísticos descriptivos de ventas, inventarios y razón inventarios/ventas.\",\n",
    "    label=\"tab:ex8_desc\",\n",
    ")"
   ]
  },
  {
   "cell_type": "code",
   "execution_count": 101,
   "id": "b04e25b3",
   "metadata": {},
   "outputs": [
    {
     "name": "stdout",
     "output_type": "stream",
     "text": [
      "\n",
      "File ex8_correlaciones.tex exported correctly in ../../../docs/latex_utils/tables/ex8_correlaciones.tex\n"
     ]
    }
   ],
   "source": [
    "corr = (\n",
    "    df[[\"sales\", \"inventories\", \"ratio\"]]\n",
    "    .corr()\n",
    "    .reset_index()\n",
    "    .rename(columns={\"index\": \"variable\"})\n",
    ")\n",
    "save_latex_table(\n",
    "    corr,\n",
    "    filename=\"ex8_correlaciones.tex\",\n",
    "    rename_map={\n",
    "        \"variable\": \"Variable\",\n",
    "        \"sales\": \"Ventas\",\n",
    "        \"inventories\": \"Inventarios\",\n",
    "        \"ratio\": \"Razón\",\n",
    "    },\n",
    "    caption=\"Matriz de correlaciones.\",\n",
    "    label=\"tab:ex8_corr\",\n",
    ")"
   ]
  },
  {
   "cell_type": "code",
   "execution_count": 102,
   "id": "c3183951",
   "metadata": {},
   "outputs": [
    {
     "name": "stdout",
     "output_type": "stream",
     "text": [
      "\n",
      "Plot ex8_series_ventas_inventarios.png saved correctly in ../../../plots/python/ex8/ex8_series_ventas_inventarios.png\n"
     ]
    }
   ],
   "source": [
    "plt.figure()\n",
    "plt.plot(df[\"year\"], df[\"sales\"], marker=\"o\", label=\"Ventas\")\n",
    "plt.plot(df[\"year\"], df[\"inventories\"], marker=\"s\", label=\"Inventarios\")\n",
    "plt.xlabel(\"Año\")\n",
    "plt.ylabel(\"Nivel\")\n",
    "plt.title(\"Series en el tiempo: Ventas e Inventarios\")\n",
    "plt.legend()\n",
    "save_plot(plt.gcf(), filename=\"ex8_series_ventas_inventarios\")"
   ]
  },
  {
   "cell_type": "code",
   "execution_count": 103,
   "id": "eafd878a",
   "metadata": {},
   "outputs": [
    {
     "name": "stdout",
     "output_type": "stream",
     "text": [
      "\n",
      "Plot ex8_series_ratio.png saved correctly in ../../../plots/python/ex8/ex8_series_ratio.png\n"
     ]
    }
   ],
   "source": [
    "plt.figure()\n",
    "plt.plot(df[\"year\"], df[\"ratio\"], marker=\"o\")\n",
    "plt.xlabel(\"Año\")\n",
    "plt.ylabel(\"Inventarios/Ventas\")\n",
    "plt.title(\"Razón Inventarios/Ventas en el tiempo\")\n",
    "save_plot(plt.gcf(), filename=\"ex8_series_ratio\")"
   ]
  },
  {
   "cell_type": "code",
   "execution_count": 104,
   "id": "7fc489a0",
   "metadata": {},
   "outputs": [
    {
     "name": "stdout",
     "output_type": "stream",
     "text": [
      "\n",
      "Plot ex8_scatter_inv_vs_sales.png saved correctly in ../../../plots/python/ex8/ex8_scatter_inv_vs_sales.png\n"
     ]
    }
   ],
   "source": [
    "plt.figure()\n",
    "plt.scatter(df[\"sales\"], df[\"inventories\"])\n",
    "b1, b0, r, p, se = stats.linregress(df[\"sales\"], df[\"inventories\"])\n",
    "xline = np.linspace(df[\"sales\"].min(), df[\"sales\"].max(), 100)\n",
    "plt.plot(xline, b0 + b1 * xline)\n",
    "plt.xlabel(\"Ventas\")\n",
    "plt.ylabel(\"Inventarios\")\n",
    "plt.title(\"Inventarios vs. Ventas (con línea OLS)\")\n",
    "save_plot(plt.gcf(), filename=\"ex8_scatter_inv_vs_sales\")"
   ]
  },
  {
   "cell_type": "code",
   "execution_count": 105,
   "id": "30ab6ba4",
   "metadata": {},
   "outputs": [
    {
     "name": "stdout",
     "output_type": "stream",
     "text": [
      "\n",
      "=== Modelo 1: Inventarios ~ Ventas ===\n",
      "                             OLS Regression Results                            \n",
      "==============================================================================\n",
      "Dep. Variable:            inventories   R-squared:                       0.943\n",
      "Model:                            OLS   Adj. R-squared:                  0.942\n",
      "Method:                 Least Squares   F-statistic:                     645.0\n",
      "Date:                Sat, 20 Sep 2025   Prob (F-statistic):           7.21e-26\n",
      "Time:                        23:14:32   Log-Likelihood:                -482.21\n",
      "No. Observations:                  41   AIC:                             968.4\n",
      "Df Residuals:                      39   BIC:                             971.9\n",
      "Df Model:                           1                                         \n",
      "Covariance Type:            nonrobust                                         \n",
      "==============================================================================\n",
      "                 coef    std err          t      P>|t|      [0.025      0.975]\n",
      "------------------------------------------------------------------------------\n",
      "const       6.667e+04   1.09e+04      6.119      0.000    4.46e+04    8.87e+04\n",
      "sales          1.1839      0.047     25.396      0.000       1.090       1.278\n",
      "==============================================================================\n",
      "Omnibus:                        5.685   Durbin-Watson:                   0.126\n",
      "Prob(Omnibus):                  0.058   Jarque-Bera (JB):                2.046\n",
      "Skew:                          -0.051   Prob(JB):                        0.360\n",
      "Kurtosis:                       1.911   Cond. No.                     5.13e+05\n",
      "==============================================================================\n",
      "\n",
      "Notes:\n",
      "[1] Standard Errors assume that the covariance matrix of the errors is correctly specified.\n",
      "[2] The condition number is large, 5.13e+05. This might indicate that there are\n",
      "strong multicollinearity or other numerical problems.\n"
     ]
    }
   ],
   "source": [
    "X1 = sm.add_constant(df[[\"sales\"]])\n",
    "model1 = sm.OLS(df[\"inventories\"], X1).fit()\n",
    "print(\"\\n=== Modelo 1: Inventarios ~ Ventas ===\\n\", model1.summary())"
   ]
  },
  {
   "cell_type": "code",
   "execution_count": 106,
   "id": "3d7fc8a5",
   "metadata": {},
   "outputs": [
    {
     "name": "stdout",
     "output_type": "stream",
     "text": [
      "\n",
      "=== Modelo 2: Inventarios ~ Ventas + Año ===\n",
      "                             OLS Regression Results                            \n",
      "==============================================================================\n",
      "Dep. Variable:            inventories   R-squared:                       0.944\n",
      "Model:                            OLS   Adj. R-squared:                  0.941\n",
      "Method:                 Least Squares   F-statistic:                     320.1\n",
      "Date:                Sat, 20 Sep 2025   Prob (F-statistic):           1.66e-24\n",
      "Time:                        23:14:32   Log-Likelihood:                -481.85\n",
      "No. Observations:                  41   AIC:                             969.7\n",
      "Df Residuals:                      38   BIC:                             974.8\n",
      "Df Model:                           2                                         \n",
      "Covariance Type:            nonrobust                                         \n",
      "==============================================================================\n",
      "                 coef    std err          t      P>|t|      [0.025      0.975]\n",
      "------------------------------------------------------------------------------\n",
      "const       6.058e+06   7.32e+06      0.827      0.413   -8.77e+06    2.09e+07\n",
      "sales          1.5234      0.418      3.647      0.001       0.678       2.369\n",
      "year       -3077.0438   3761.633     -0.818      0.418   -1.07e+04    4537.985\n",
      "==============================================================================\n",
      "Omnibus:                        5.171   Durbin-Watson:                   0.125\n",
      "Prob(Omnibus):                  0.075   Jarque-Bera (JB):                1.994\n",
      "Skew:                          -0.099   Prob(JB):                        0.369\n",
      "Kurtosis:                       1.938   Cond. No.                     3.43e+08\n",
      "==============================================================================\n",
      "\n",
      "Notes:\n",
      "[1] Standard Errors assume that the covariance matrix of the errors is correctly specified.\n",
      "[2] The condition number is large, 3.43e+08. This might indicate that there are\n",
      "strong multicollinearity or other numerical problems.\n"
     ]
    }
   ],
   "source": [
    "X2 = sm.add_constant(df[[\"sales\", \"year\"]])\n",
    "model2 = sm.OLS(df[\"inventories\"], X2).fit()\n",
    "print(\"\\n=== Modelo 2: Inventarios ~ Ventas + Año ===\\n\", model2.summary())"
   ]
  },
  {
   "cell_type": "code",
   "execution_count": 107,
   "id": "42df087f",
   "metadata": {},
   "outputs": [],
   "source": [
    "def _params_to_df(res):\n",
    "    out = (\n",
    "        res.params.to_frame(\"coef\")\n",
    "        .join(res.bse.to_frame(\"se\"))\n",
    "        .join(res.tvalues.to_frame(\"t\"))\n",
    "        .join(res.pvalues.to_frame(\"p\"))\n",
    "    )\n",
    "    ci = res.conf_int()\n",
    "    ci.columns = [\"ci_low\", \"ci_high\"]\n",
    "    out = out.join(ci)\n",
    "    out.index.name = \"Parametro\"\n",
    "    return out.reset_index()"
   ]
  },
  {
   "cell_type": "code",
   "execution_count": 108,
   "id": "0465536d",
   "metadata": {},
   "outputs": [
    {
     "name": "stdout",
     "output_type": "stream",
     "text": [
      "\n",
      "File ex8_ols_m1.tex exported correctly in ../../../docs/latex_utils/tables/ex8_ols_m1.tex\n"
     ]
    }
   ],
   "source": [
    "coef1 = _params_to_df(model1)\n",
    "coef2 = _params_to_df(model2)\n",
    "\n",
    "save_latex_table(\n",
    "    coef1,\n",
    "    filename=\"ex8_ols_m1.tex\",\n",
    "    rename_map={\n",
    "        \"Parametro\": \"Parámetro\",\n",
    "        \"coef\": \"Coef.\",\n",
    "        \"se\": \"E.E.\",\n",
    "        \"t\": \"t\",\n",
    "        \"p\": \"p-valor\",\n",
    "        \"ci_low\": \"IC 2.5%\",\n",
    "        \"ci_high\": \"IC 97.5%\",\n",
    "    },\n",
    "    caption=\"Resultados OLS: Inventarios sobre Ventas.\",\n",
    "    label=\"tab:ex8_m1\",\n",
    ")"
   ]
  },
  {
   "cell_type": "code",
   "execution_count": 109,
   "id": "55009936",
   "metadata": {},
   "outputs": [
    {
     "name": "stdout",
     "output_type": "stream",
     "text": [
      "\n",
      "File ex8_ols_m2.tex exported correctly in ../../../docs/latex_utils/tables/ex8_ols_m2.tex\n"
     ]
    }
   ],
   "source": [
    "save_latex_table(\n",
    "    coef2,\n",
    "    filename=\"ex8_ols_m2.tex\",\n",
    "    rename_map={\n",
    "        \"Parametro\": \"Parámetro\",\n",
    "        \"coef\": \"Coef.\",\n",
    "        \"se\": \"E.E.\",\n",
    "        \"t\": \"t\",\n",
    "        \"p\": \"p-valor\",\n",
    "        \"ci_low\": \"IC 2.5%\",\n",
    "        \"ci_high\": \"IC 97.5%\",\n",
    "    },\n",
    "    caption=\"Resultados OLS: Inventarios sobre Ventas y Año.\",\n",
    "    label=\"tab:ex8_m2\",\n",
    ")"
   ]
  },
  {
   "cell_type": "code",
   "execution_count": 110,
   "id": "bdf44c74",
   "metadata": {},
   "outputs": [
    {
     "name": "stdout",
     "output_type": "stream",
     "text": [
      "\n",
      "Plot ex8_qq_m1.png saved correctly in ../../../plots/python/ex8/ex8_qq_m1.png\n"
     ]
    }
   ],
   "source": [
    "res1 = model1.resid\n",
    "res2 = model2.resid\n",
    "\n",
    "fig = qqplot(res1, line=\"45\")\n",
    "plt.title(\"Q-Q plot residuos Modelo 1\")\n",
    "save_plot(fig.figure, filename=\"ex8_qq_m1\")"
   ]
  },
  {
   "cell_type": "code",
   "execution_count": 111,
   "id": "b3bc07a2",
   "metadata": {},
   "outputs": [
    {
     "name": "stdout",
     "output_type": "stream",
     "text": [
      "\n",
      "Plot ex8_qq_m2.png saved correctly in ../../../plots/python/ex8/ex8_qq_m2.png\n"
     ]
    }
   ],
   "source": [
    "fig = qqplot(res2, line=\"45\")\n",
    "plt.title(\"Q-Q plot residuos Modelo 2\")\n",
    "save_plot(fig.figure, filename=\"ex8_qq_m2\")"
   ]
  },
  {
   "cell_type": "code",
   "execution_count": 112,
   "id": "e9d159d7",
   "metadata": {},
   "outputs": [
    {
     "name": "stdout",
     "output_type": "stream",
     "text": [
      "\n",
      "Plot ex8_acf_m1.png saved correctly in ../../../plots/python/ex8/ex8_acf_m1.png\n"
     ]
    }
   ],
   "source": [
    "fig = plot_acf(res1, lags=12)\n",
    "plt.title(\"ACF residuos Modelo 1\")\n",
    "save_plot(fig.figure, filename=\"ex8_acf_m1\")"
   ]
  },
  {
   "cell_type": "code",
   "execution_count": 113,
   "id": "f572aadf",
   "metadata": {},
   "outputs": [
    {
     "name": "stdout",
     "output_type": "stream",
     "text": [
      "\n",
      "Plot ex8_acf_m2.png saved correctly in ../../../plots/python/ex8/ex8_acf_m2.png\n"
     ]
    }
   ],
   "source": [
    "fig = plot_acf(res2, lags=12)\n",
    "plt.title(\"ACF residuos Modelo 2\")\n",
    "save_plot(fig.figure, filename=\"ex8_acf_m2\")"
   ]
  },
  {
   "cell_type": "code",
   "execution_count": 114,
   "id": "5bc15179",
   "metadata": {},
   "outputs": [
    {
     "name": "stdout",
     "output_type": "stream",
     "text": [
      "\n",
      "Durbin-Watson M1: 0.1256  |  M2: 0.1254\n"
     ]
    }
   ],
   "source": [
    "dw1 = sm.stats.stattools.durbin_watson(res1)\n",
    "dw2 = sm.stats.stattools.durbin_watson(res2)\n",
    "print(f\"\\nDurbin-Watson M1: {dw1:.4f}  |  M2: {dw2:.4f}\")"
   ]
  },
  {
   "cell_type": "code",
   "execution_count": 115,
   "id": "05507009",
   "metadata": {},
   "outputs": [
    {
     "name": "stdout",
     "output_type": "stream",
     "text": [
      "\n",
      "Breusch-Pagan M1 (LM, p, F, p): (np.float64(1.7818), np.float64(0.1819), np.float64(1.7719), np.float64(0.1909))\n",
      "Breusch-Pagan M2 (LM, p, F, p): (np.float64(3.0968), np.float64(0.2126), np.float64(1.5523), np.float64(0.2249))\n"
     ]
    }
   ],
   "source": [
    "bp1 = het_breuschpagan(res1, X1)  # (LM stat, LM pvalue, F stat, F pvalue)\n",
    "bp2 = het_breuschpagan(res2, X2)\n",
    "print(\"\\nBreusch-Pagan M1 (LM, p, F, p):\", tuple(round(x, 4) for x in bp1))\n",
    "print(\"Breusch-Pagan M2 (LM, p, F, p):\", tuple(round(x, 4) for x in bp2))"
   ]
  },
  {
   "cell_type": "code",
   "execution_count": 116,
   "id": "1bc0020c",
   "metadata": {},
   "outputs": [
    {
     "name": "stdout",
     "output_type": "stream",
     "text": [
      "\n",
      "White test M1 (LM, p, F, p): (np.float64(2.8789), np.float64(0.2371), np.float64(1.4349), np.float64(0.2508))\n",
      "White test M2 (LM, p, F, p): (np.float64(6.7043), np.float64(0.1524), np.float64(1.7594), np.float64(0.1585))\n"
     ]
    }
   ],
   "source": [
    "wt1 = het_white(res1, X1)\n",
    "wt2 = het_white(res2, X2)\n",
    "print(\"\\nWhite test M1 (LM, p, F, p):\", tuple(round(x, 4) for x in wt1))\n",
    "print(\"White test M2 (LM, p, F, p):\", tuple(round(x, 4) for x in wt2))"
   ]
  },
  {
   "cell_type": "code",
   "execution_count": 117,
   "id": "d145a4ea",
   "metadata": {},
   "outputs": [
    {
     "name": "stdout",
     "output_type": "stream",
     "text": [
      "\n",
      "Jarque-Bera M1 (JB, p, skew, kurt): (2.0457, 0.3596, -0.0515, 1.9106)\n",
      "Jarque-Bera M2 (JB, p, skew, kurt): (1.994, 0.369, -0.0987, 1.9378)\n"
     ]
    }
   ],
   "source": [
    "jb1 = sm.stats.stattools.jarque_bera(res1)\n",
    "jb2 = sm.stats.stattools.jarque_bera(res2)\n",
    "print(\"\\nJarque-Bera M1 (JB, p, skew, kurt):\", tuple(round(float(x), 4) for x in jb1))\n",
    "print(\"Jarque-Bera M2 (JB, p, skew, kurt):\", tuple(round(float(x), 4) for x in jb2))"
   ]
  },
  {
   "cell_type": "code",
   "execution_count": 118,
   "id": "7c2a3c2a",
   "metadata": {},
   "outputs": [
    {
     "name": "stdout",
     "output_type": "stream",
     "text": [
      "\n",
      "RESET Ramsey M1 (F, p, gl): 138.0126 0.0 38.0\n",
      "RESET Ramsey M2 (F, p, gl): 32.471 0.0 37.0\n"
     ]
    }
   ],
   "source": [
    "reset1 = linear_reset(model1, use_f=True)\n",
    "reset2 = linear_reset(model2, use_f=True)\n",
    "print(\n",
    "    \"\\nRESET Ramsey M1 (F, p, gl):\",\n",
    "    round(reset1.fvalue, 4),\n",
    "    round(reset1.pvalue, 4),\n",
    "    reset1.df_denom,\n",
    ")\n",
    "print(\n",
    "    \"RESET Ramsey M2 (F, p, gl):\",\n",
    "    round(reset2.fvalue, 4),\n",
    "    round(reset2.pvalue, 4),\n",
    "    reset2.df_denom,\n",
    ")"
   ]
  },
  {
   "cell_type": "code",
   "execution_count": null,
   "id": "5b89e132",
   "metadata": {},
   "outputs": [],
   "source": [
    "bg1_lm, bg1_lm_p, bg1_f, bg1_f_p = acorr_breusch_godfrey(model1, nlags=1)\n",
    "bg2_lm, bg2_lm_p, bg2_f, bg2_f_p = acorr_breusch_godfrey(model2, nlags=1)\n",
    "\n",
    "print(\n",
    "    f\"\\nBreusch–Godfrey M1 (LM={bg1_lm:.4f}, p={bg1_lm_p:.4g}; F={bg1_f:.4f}, p={bg1_f_p:.4g})\"\n",
    ")\n",
    "print(\n",
    "    f\"Breusch–Godfrey M2 (LM={bg2_lm:.4f}, p={bg2_lm_p:.4g}; F={bg2_f:.4f}, p={bg2_f_p:.4g})\"\n",
    ")"
   ]
  },
  {
   "cell_type": "code",
   "execution_count": null,
   "id": "8304e1a6",
   "metadata": {},
   "outputs": [
    {
     "name": "stdout",
     "output_type": "stream",
     "text": [
      "\n",
      "File ex8_diagnosticos.tex exported correctly in ../../../docs/latex_utils/tables/ex8_diagnosticos.tex\n"
     ]
    }
   ],
   "source": [
    "idx = [\"M1: Inv ~ Ventas\", \"M2: Inv ~ Ventas + Año\"]\n",
    "results_tests = (\n",
    "    pd.DataFrame(\n",
    "        {\n",
    "            \"Durbin-Watson\": [dw1, dw2],\n",
    "            \"BP p-valor\": [bp1[1], bp2[1]],\n",
    "            \"White p-valor\": [wt1[1], wt2[1]],\n",
    "            \"JB p-valor\": [float(jb1[1]), float(jb2[1])],\n",
    "            \"RESET p-valor\": [reset1.pvalue, reset2.pvalue],\n",
    "            \"BG LM p-valor\": [bg1_lm_p, bg2_lm_p],\n",
    "            \"BG F p-valor\": [bg1_f_p, bg2_f_p],\n",
    "            \"R2\": [model1.rsquared, model2.rsquared],\n",
    "            \"R2 Ajustado\": [model1.rsquared_adj, model2.rsquared_adj],\n",
    "            \"N\": [int(model1.nobs), int(model2.nobs)],\n",
    "        },\n",
    "        index=[\"M1: Inv ~ Ventas\", \"M2: Inv ~ Ventas + Año\"],\n",
    "    )\n",
    "    .reset_index()\n",
    "    .rename(columns={\"index\": \"Modelo\"})\n",
    ")\n",
    "\n",
    "\n",
    "save_latex_table(\n",
    "    results_tests.round(4),\n",
    "    filename=\"ex8_diagnosticos.tex\",\n",
    "    rename_map={\n",
    "        \"Modelo\": \"Modelo\",\n",
    "        \"Durbin-Watson\": \"Durbin–Watson\",\n",
    "        \"BP p-valor\": \"Breusch–Pagan p\",\n",
    "        \"White p-valor\": \"White p\",\n",
    "        \"JB p-valor\": \"Jarque–Bera p\",\n",
    "        \"RESET p-valor\": \"RESET p\",\n",
    "        \"R2\": \"$R^2$\",\n",
    "        \"R2 Ajustado\": \"$R^2$ Ajustado\",\n",
    "        \"N\": \"N\",\n",
    "    },\n",
    "    caption=\"Pruebas de supuestos y métricas de ajuste para los modelos estimados.\",\n",
    "    label=\"tab:ex8_diagnosticos\",\n",
    ")"
   ]
  },
  {
   "cell_type": "code",
   "execution_count": 120,
   "id": "e483be08",
   "metadata": {},
   "outputs": [
    {
     "name": "stdout",
     "output_type": "stream",
     "text": [
      "\n",
      "Plot ex8_residuos_m1.png saved correctly in ../../../plots/python/ex8/ex8_residuos_m1.png\n"
     ]
    }
   ],
   "source": [
    "plt.figure()\n",
    "plt.plot(df[\"year\"], res1, marker=\"o\")\n",
    "plt.axhline(0, linestyle=\"--\")\n",
    "plt.xlabel(\"Año\")\n",
    "plt.ylabel(\"Residuo\")\n",
    "plt.title(\"Residuos en el tiempo – Modelo 1\")\n",
    "save_plot(plt.gcf(), filename=\"ex8_residuos_m1\")"
   ]
  },
  {
   "cell_type": "code",
   "execution_count": 121,
   "id": "2bbd0ca9",
   "metadata": {},
   "outputs": [
    {
     "name": "stdout",
     "output_type": "stream",
     "text": [
      "\n",
      "Plot ex8_residuos_m2.png saved correctly in ../../../plots/python/ex8/ex8_residuos_m2.png\n"
     ]
    }
   ],
   "source": [
    "plt.figure()\n",
    "plt.plot(df[\"year\"], res2, marker=\"o\")\n",
    "plt.axhline(0, linestyle=\"--\")\n",
    "plt.xlabel(\"Año\")\n",
    "plt.ylabel(\"Residuo\")\n",
    "plt.title(\"Residuos en el tiempo – Modelo 2\")\n",
    "save_plot(plt.gcf(), filename=\"ex8_residuos_m2\")"
   ]
  },
  {
   "cell_type": "code",
   "execution_count": null,
   "id": "9ee61a66",
   "metadata": {},
   "outputs": [],
   "source": []
  }
 ],
 "metadata": {
  "kernelspec": {
   "display_name": "stats",
   "language": "python",
   "name": "python3"
  },
  "language_info": {
   "codemirror_mode": {
    "name": "ipython",
    "version": 3
   },
   "file_extension": ".py",
   "mimetype": "text/x-python",
   "name": "python",
   "nbconvert_exporter": "python",
   "pygments_lexer": "ipython3",
   "version": "3.11.11"
  }
 },
 "nbformat": 4,
 "nbformat_minor": 5
}
