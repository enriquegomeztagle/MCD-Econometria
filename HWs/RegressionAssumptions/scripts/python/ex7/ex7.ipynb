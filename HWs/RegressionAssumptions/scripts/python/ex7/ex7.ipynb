{
 "cells": [
  {
   "cell_type": "code",
   "execution_count": null,
   "id": "22308c80",
   "metadata": {},
   "outputs": [],
   "source": [
    "import pandas as pd\n",
    "import numpy as np\n",
    "\n",
    "import matplotlib.pyplot as plt\n",
    "\n",
    "from scipy import stats\n",
    "import statsmodels.api as sm\n",
    "import statsmodels.formula.api as smf\n",
    "\n",
    "from statsmodels.graphics.gofplots import qqplot\n",
    "from statsmodels.graphics.tsaplots import plot_acf\n",
    "\n",
    "import os\n",
    "from pathlib import Path"
   ]
  },
  {
   "cell_type": "code",
   "execution_count": 2,
   "id": "912d3a77",
   "metadata": {},
   "outputs": [],
   "source": [
    "DATA_DIR = Path(\"../../../data/\")\n",
    "DATA_DIR.mkdir(parents=True, exist_ok=True)\n",
    "\n",
    "LATEX_OUT = Path(\"../../../docs/latex_utils/tables\")\n",
    "LATEX_OUT.mkdir(parents=True, exist_ok=True)\n",
    "\n",
    "PLOTS_DIR = Path(\"../../../plots/python/ex7/\")\n",
    "PLOTS_DIR.mkdir(parents=True, exist_ok=True)"
   ]
  },
  {
   "cell_type": "code",
   "execution_count": 3,
   "id": "ddecb6da",
   "metadata": {},
   "outputs": [],
   "source": [
    "def save_plot(\n",
    "    plot: plt.Figure,\n",
    "    filename: str,\n",
    "    format: str = \"png\",\n",
    "    dpi: int = 300,\n",
    "    close: bool = True,\n",
    "):\n",
    "    PLOTS_DIR.mkdir(parents=True, exist_ok=True)\n",
    "    filepath = PLOTS_DIR / f\"{filename}.{format}\"\n",
    "    try:\n",
    "        plot.savefig(filepath, format=format, dpi=dpi, bbox_inches=\"tight\")\n",
    "        if close:\n",
    "            plt.close(plot)\n",
    "        print(\n",
    "            f\"\\nPlot {filename}.{format} saved correctly in {PLOTS_DIR}/{filename}.{format}\"\n",
    "        )\n",
    "    except Exception as e:\n",
    "        print(f\"\\nCould not save plot {filename}.{format}. Reason: {e}\")"
   ]
  },
  {
   "cell_type": "code",
   "execution_count": 4,
   "id": "7729465b",
   "metadata": {},
   "outputs": [],
   "source": [
    "def save_latex_table(df, filename: str, rename_map: dict, caption: str, label: str):\n",
    "    try:\n",
    "        table_tex = df.rename(columns=rename_map).to_latex(\n",
    "            index=False,\n",
    "            float_format=\"%.4f\",\n",
    "            caption=caption,\n",
    "            label=label,\n",
    "        )\n",
    "        with open(LATEX_OUT / filename, \"w\") as f:\n",
    "            f.write(table_tex)\n",
    "        print(f\"\\nFile {filename} exported correctly in {LATEX_OUT}/{filename}\")\n",
    "    except Exception as e:\n",
    "        print(f\"\\nCould not export {filename}. Reason: {e}\")"
   ]
  },
  {
   "cell_type": "code",
   "execution_count": 5,
   "id": "520020f0",
   "metadata": {},
   "outputs": [
    {
     "name": "stdout",
     "output_type": "stream",
     "text": [
      "   YEAR      C      G     I      L       H      A\n",
      "0  1951  21.89  330.2  45.1  220.4  1491.0  19.00\n",
      "1  1952  22.29  347.2  50.9  259.5  1504.0  19.41\n",
      "2  1953  19.63  366.1  53.3  256.3  1438.0  20.93\n",
      "3  1954  22.85  366.3  53.6  249.3  1551.0  21.78\n",
      "4  1955  33.77  399.3  54.6  352.3  1646.0  23.68\n"
     ]
    }
   ],
   "source": [
    "df = pd.read_excel(os.path.join(DATA_DIR, \"Table12_7.xls\"))\n",
    "print(df.head())"
   ]
  },
  {
   "cell_type": "code",
   "execution_count": 6,
   "id": "eeca1ffb",
   "metadata": {},
   "outputs": [],
   "source": [
    "if \"YEAR\" in df.columns:\n",
    "    df = df.sort_values(\"YEAR\").reset_index(drop=True)\n",
    "\n",
    "rename_cols = {\n",
    "    \"Year\": \"YEAR\",\n",
    "    \"year\": \"YEAR\",\n",
    "    \"C \": \"C\",\n",
    "    \"G \": \"G\",\n",
    "    \"I \": \"I\",\n",
    "    \"L \": \"L\",\n",
    "    \"H \": \"H\",\n",
    "    \"A \": \"A\",\n",
    "}\n",
    "df = df.rename(columns={k: v for k, v in rename_cols.items() if k in df.columns})\n",
    "\n",
    "required = [\"C\", \"I\", \"L\", \"H\", \"A\"]\n",
    "missing = [c for c in required if c not in df.columns]\n",
    "if missing:\n",
    "    raise ValueError(f\"Faltan columnas requeridas en el DataFrame: {missing}\")\n",
    "\n",
    "for c in required:\n",
    "    df = df[df[c] > 0]\n",
    "\n",
    "df = df.copy()\n",
    "df[\"lnC\"] = np.log(df[\"C\"])\n",
    "df[\"lnI\"] = np.log(df[\"I\"])\n",
    "df[\"lnL\"] = np.log(df[\"L\"])\n",
    "df[\"lnH\"] = np.log(df[\"H\"])\n",
    "df[\"lnA\"] = np.log(df[\"A\"])"
   ]
  },
  {
   "cell_type": "code",
   "execution_count": 7,
   "id": "59ec94ac",
   "metadata": {},
   "outputs": [
    {
     "name": "stdout",
     "output_type": "stream",
     "text": [
      "\n",
      "================  Resultados de la Regresión (Log-Log)  ================\n",
      "                            OLS Regression Results                            \n",
      "==============================================================================\n",
      "Dep. Variable:                    lnC   R-squared:                       0.936\n",
      "Model:                            OLS   Adj. R-squared:                  0.926\n",
      "Method:                 Least Squares   F-statistic:                     91.54\n",
      "Date:                Sat, 20 Sep 2025   Prob (F-statistic):           1.49e-14\n",
      "Time:                        22:50:46   Log-Likelihood:                 23.340\n",
      "No. Observations:                  30   AIC:                            -36.68\n",
      "Df Residuals:                      25   BIC:                            -29.67\n",
      "Df Model:                           4                                         \n",
      "Covariance Type:            nonrobust                                         \n",
      "==============================================================================\n",
      "                 coef    std err          t      P>|t|      [0.025      0.975]\n",
      "------------------------------------------------------------------------------\n",
      "const         -1.5004      1.003     -1.496      0.147      -3.566       0.565\n",
      "lnI            0.4675      0.166      2.817      0.009       0.126       0.809\n",
      "lnL            0.2794      0.115      2.436      0.022       0.043       0.516\n",
      "lnH           -0.0052      0.143     -0.036      0.972      -0.300       0.289\n",
      "lnA            0.4414      0.107      4.145      0.000       0.222       0.661\n",
      "==============================================================================\n",
      "Omnibus:                        0.477   Durbin-Watson:                   0.955\n",
      "Prob(Omnibus):                  0.788   Jarque-Bera (JB):                0.612\n",
      "Skew:                          -0.195   Prob(JB):                        0.736\n",
      "Kurtosis:                       2.419   Cond. No.                         505.\n",
      "==============================================================================\n",
      "\n",
      "Notes:\n",
      "[1] Standard Errors assume that the covariance matrix of the errors is correctly specified.\n"
     ]
    }
   ],
   "source": [
    "Y = df[\"lnC\"]\n",
    "X = df[[\"lnI\", \"lnL\", \"lnH\", \"lnA\"]]\n",
    "X = sm.add_constant(X)\n",
    "model = sm.OLS(Y, X, missing=\"drop\").fit()\n",
    "\n",
    "print(\"\\n================  Resultados de la Regresión (Log-Log)  ================\")\n",
    "print(model.summary())"
   ]
  },
  {
   "cell_type": "code",
   "execution_count": 8,
   "id": "11d18aae",
   "metadata": {},
   "outputs": [
    {
     "name": "stdout",
     "output_type": "stream",
     "text": [
      "\n",
      "File q7_a.tex exported correctly in ../../../docs/latex_utils/tables/q7_a.tex\n"
     ]
    }
   ],
   "source": [
    "coefs = model.params.rename(\"Coeficiente\")\n",
    "se = model.bse.rename(\"EE\")\n",
    "tvals = model.tvalues.rename(\"t\")\n",
    "pvals = model.pvalues.rename(\"p-valor\")\n",
    "resumen_df = (\n",
    "    pd.concat([coefs, se, tvals, pvals], axis=1)\n",
    "    .reset_index()\n",
    "    .rename(columns={\"index\": \"Parámetro\"})\n",
    ")\n",
    "resumen_df.loc[len(resumen_df.index)] = [\"R^2\", model.rsquared, np.nan, np.nan, np.nan]\n",
    "resumen_df.loc[len(resumen_df.index)] = [\n",
    "    \"R^2 ajustado\",\n",
    "    model.rsquared_adj,\n",
    "    np.nan,\n",
    "    np.nan,\n",
    "    np.nan,\n",
    "]\n",
    "resumen_df.loc[len(resumen_df.index)] = [\"N\", int(model.nobs), np.nan, np.nan, np.nan]\n",
    "\n",
    "save_latex_table(\n",
    "    resumen_df,\n",
    "    filename=\"q7_a.tex\",\n",
    "    rename_map={\n",
    "        \"Parámetro\": \"Parámetro\",\n",
    "        \"Coeficiente\": \"Coef.\",\n",
    "        \"EE\": \"EE\",\n",
    "        \"t\": \"t\",\n",
    "        \"p-valor\": \"p-valor\",\n",
    "    },\n",
    "    caption=(\n",
    "        r\"Resultados OLS para $\\ln C_t$ con regresores $\\ln I_t, \\ln L_t, \\ln H_t, \\ln A_t$. \"\n",
    "        r\"Errores estándar entre paréntesis.\"\n",
    "    ),\n",
    "    label=\"tab:q7_a\",\n",
    ")"
   ]
  },
  {
   "cell_type": "code",
   "execution_count": 9,
   "id": "91ef70b5",
   "metadata": {},
   "outputs": [
    {
     "name": "stdout",
     "output_type": "stream",
     "text": [
      "\n",
      "Estadístico Durbin–Watson: 0.9549\n"
     ]
    }
   ],
   "source": [
    "resid = model.resid\n",
    "fitted = model.fittedvalues\n",
    "influence = model.get_influence()\n",
    "std_resid = influence.resid_studentized_internal\n",
    "\n",
    "if \"YEAR\" not in df.columns:\n",
    "    df[\"YEAR\"] = np.arange(len(df))\n",
    "\n",
    "df[\"resid\"] = resid\n",
    "df[\"std_resid\"] = std_resid\n",
    "\n",
    "dw_stat = sm.stats.stattools.durbin_watson(resid)\n",
    "print(f\"\\nEstadístico Durbin–Watson: {dw_stat:.4f}\")"
   ]
  },
  {
   "cell_type": "code",
   "execution_count": 10,
   "id": "beeb683b",
   "metadata": {},
   "outputs": [
    {
     "name": "stdout",
     "output_type": "stream",
     "text": [
      "\n",
      "Plot ex7_residuos_vs_time.png saved correctly in ../../../plots/python/ex7/ex7_residuos_vs_time.png\n"
     ]
    }
   ],
   "source": [
    "fig1, ax1 = plt.subplots(figsize=(8, 4))\n",
    "ax1.plot(df[\"YEAR\"], df[\"resid\"], marker=\"o\", linestyle=\"-\")\n",
    "ax1.axhline(0, linestyle=\"--\", linewidth=1)\n",
    "ax1.set_title(\"Residuos vs. Año\")\n",
    "ax1.set_xlabel(\"Año\")\n",
    "ax1.set_ylabel(\"Residuo\")\n",
    "save_plot(fig1, \"ex7_residuos_vs_time\")"
   ]
  },
  {
   "cell_type": "code",
   "execution_count": 11,
   "id": "bb0e99df",
   "metadata": {},
   "outputs": [
    {
     "name": "stdout",
     "output_type": "stream",
     "text": [
      "\n",
      "Plot ex7_stdres_vs_time.png saved correctly in ../../../plots/python/ex7/ex7_stdres_vs_time.png\n"
     ]
    }
   ],
   "source": [
    "fig2, ax2 = plt.subplots(figsize=(8, 4))\n",
    "ax2.plot(df[\"YEAR\"], df[\"std_resid\"], marker=\"o\", linestyle=\"-\")\n",
    "ax2.axhline(0, linestyle=\"--\", linewidth=1)\n",
    "ax2.axhline(2, linestyle=\":\", linewidth=1)\n",
    "ax2.axhline(-2, linestyle=\":\", linewidth=1)\n",
    "ax2.set_title(\"Residuos estandarizados vs. Año\")\n",
    "ax2.set_xlabel(\"Año\")\n",
    "ax2.set_ylabel(\"Residuo estandarizado\")\n",
    "save_plot(fig2, \"ex7_stdres_vs_time\")"
   ]
  },
  {
   "cell_type": "code",
   "execution_count": 12,
   "id": "cf09fe2c",
   "metadata": {},
   "outputs": [
    {
     "name": "stdout",
     "output_type": "stream",
     "text": [
      "\n",
      "Plot ex7_residuos_vs_fitted.png saved correctly in ../../../plots/python/ex7/ex7_residuos_vs_fitted.png\n"
     ]
    }
   ],
   "source": [
    "fig3, ax3 = plt.subplots(figsize=(6, 5))\n",
    "ax3.scatter(fitted, resid)\n",
    "ax3.axhline(0, linestyle=\"--\", linewidth=1)\n",
    "ax3.set_title(\"Residuos vs. Valores ajustados\")\n",
    "ax3.set_xlabel(\"Ajustados\")\n",
    "ax3.set_ylabel(\"Residuo\")\n",
    "save_plot(fig3, \"ex7_residuos_vs_fitted\")"
   ]
  },
  {
   "cell_type": "code",
   "execution_count": 13,
   "id": "a040ea5d",
   "metadata": {},
   "outputs": [
    {
     "name": "stdout",
     "output_type": "stream",
     "text": [
      "\n",
      "Plot ex7_qqplot_residuos.png saved correctly in ../../../plots/python/ex7/ex7_qqplot_residuos.png\n"
     ]
    }
   ],
   "source": [
    "fig4 = qqplot(resid, line=\"45\", fit=True)\n",
    "plt.title(\"Q-Q plot de residuos\")\n",
    "save_plot(fig4, \"ex7_qqplot_residuos\")"
   ]
  },
  {
   "cell_type": "code",
   "execution_count": 14,
   "id": "0305adb1",
   "metadata": {},
   "outputs": [
    {
     "name": "stdout",
     "output_type": "stream",
     "text": [
      "\n",
      "Plot ex7_acf_residuos.png saved correctly in ../../../plots/python/ex7/ex7_acf_residuos.png\n"
     ]
    }
   ],
   "source": [
    "fig5, ax5 = plt.subplots(figsize=(8, 4))\n",
    "plot_acf(resid, ax=ax5, lags=min(20, len(df) - 2))\n",
    "ax5.set_title(\"ACF de los residuos\")\n",
    "save_plot(fig5, \"ex7_acf_residuos\")"
   ]
  },
  {
   "cell_type": "code",
   "execution_count": 15,
   "id": "667555b0",
   "metadata": {},
   "outputs": [
    {
     "name": "stdout",
     "output_type": "stream",
     "text": [
      "\n",
      "Plot ex7_scatter_resid_lag.png saved correctly in ../../../plots/python/ex7/ex7_scatter_resid_lag.png\n"
     ]
    }
   ],
   "source": [
    "resid_lag = resid.shift(1)\n",
    "fig6, ax6 = plt.subplots(figsize=(6, 5))\n",
    "ax6.scatter(resid_lag[1:], resid[1:])\n",
    "ax6.set_title(r\"Dispersión $u_t$ vs $u_{t-1}$\")\n",
    "ax6.set_xlabel(r\"$u_{t-1}$\")\n",
    "ax6.set_ylabel(r\"$u_t$\")\n",
    "valid = (~resid_lag.isna()) & (~resid.isna())\n",
    "if valid.sum() > 1:\n",
    "    b1, b0, r, p, se = stats.linregress(resid_lag[valid], resid[valid])\n",
    "    xgrid = np.linspace(resid_lag[valid].min(), resid_lag[valid].max(), 100)\n",
    "    ax6.plot(xgrid, b0 + b1 * xgrid, linestyle=\"--\")\n",
    "save_plot(fig6, \"ex7_scatter_resid_lag\")"
   ]
  },
  {
   "cell_type": "code",
   "execution_count": null,
   "id": "17b5550b",
   "metadata": {},
   "outputs": [],
   "source": []
  }
 ],
 "metadata": {
  "kernelspec": {
   "display_name": "stats",
   "language": "python",
   "name": "python3"
  },
  "language_info": {
   "codemirror_mode": {
    "name": "ipython",
    "version": 3
   },
   "file_extension": ".py",
   "mimetype": "text/x-python",
   "name": "python",
   "nbconvert_exporter": "python",
   "pygments_lexer": "ipython3",
   "version": "3.11.11"
  }
 },
 "nbformat": 4,
 "nbformat_minor": 5
}
