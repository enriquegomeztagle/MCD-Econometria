{
 "cells": [
  {
   "cell_type": "code",
   "execution_count": 9,
   "id": "be738d07",
   "metadata": {},
   "outputs": [],
   "source": [
    "from scipy.stats import f"
   ]
  },
  {
   "cell_type": "code",
   "execution_count": 10,
   "id": "22e4b641",
   "metadata": {},
   "outputs": [],
   "source": [
    "SCR1, df1 = 55.0, 25\n",
    "SCR2, df2 = 140.0, 25\n",
    "alpha = 0.05"
   ]
  },
  {
   "cell_type": "code",
   "execution_count": 11,
   "id": "ae85d067",
   "metadata": {},
   "outputs": [],
   "source": [
    "F = (SCR2 / df2) / (SCR1 / df1)\n",
    "F_crit_upper = f.ppf(1 - alpha, df2, df1)\n",
    "p_one_sided = f.sf(F, df2, df1)\n",
    "p_two_sided = 2 * min(f.sf(F, df2, df1), f.sf(1.0 / F, df1, df2))\n",
    "p_two_sided = min(p_two_sided, 1.0)"
   ]
  },
  {
   "cell_type": "code",
   "execution_count": 12,
   "id": "8c2d4078",
   "metadata": {},
   "outputs": [
    {
     "name": "stdout",
     "output_type": "stream",
     "text": [
      "F observado = 2.545455\n",
      "F crítico (una cola, α=0.05, gl=(25,25)) = 1.955447\n",
      "p-value (una cola) = 0.011518\n",
      "p-value (dos colas) = 0.023036\n"
     ]
    }
   ],
   "source": [
    "print(f\"F observado = {F:.6f}\")\n",
    "print(f\"F crítico (una cola, α={alpha}, gl=({df2},{df1})) = {F_crit_upper:.6f}\")\n",
    "print(f\"p-value (una cola) = {p_one_sided:.6f}\")\n",
    "print(f\"p-value (dos colas) = {p_two_sided:.6f}\")"
   ]
  },
  {
   "cell_type": "code",
   "execution_count": null,
   "id": "d913ea12",
   "metadata": {},
   "outputs": [
    {
     "name": "stdout",
     "output_type": "stream",
     "text": [
      "Conclusión (una cola, 5%): Rechaza H0 de homoscedasticidad (evidencia de heteroscedasticidad).\n",
      "Conclusión (dos colas, 5%): Rechaza H0 de homoscedasticidad.\n"
     ]
    }
   ],
   "source": [
    "if F > F_crit_upper:\n",
    "    print(\n",
    "        \"Conclusión (una cola, 5%): Rechaza H0 de homoscedasticidad (evidencia de heteroscedasticidad).\"\n",
    "    )\n",
    "else:\n",
    "    print(\"Conclusión (una cola, 5%): No se rechaza H0 de homoscedasticidad.\")\n",
    "\n",
    "if p_two_sided < alpha:\n",
    "    print(\"Conclusión (dos colas, 5%): Rechaza H0 de homoscedasticidad.\")\n",
    "else:\n",
    "    print(\"Conclusión (dos colas, 5%): No se rechaza H0 de homoscedasticidad.\")"
   ]
  },
  {
   "cell_type": "code",
   "execution_count": null,
   "id": "c2922056",
   "metadata": {},
   "outputs": [],
   "source": []
  }
 ],
 "metadata": {
  "kernelspec": {
   "display_name": "stats",
   "language": "python",
   "name": "python3"
  },
  "language_info": {
   "codemirror_mode": {
    "name": "ipython",
    "version": 3
   },
   "file_extension": ".py",
   "mimetype": "text/x-python",
   "name": "python",
   "nbconvert_exporter": "python",
   "pygments_lexer": "ipython3",
   "version": "3.11.11"
  }
 },
 "nbformat": 4,
 "nbformat_minor": 5
}
