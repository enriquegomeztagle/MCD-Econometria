{
 "cells": [
  {
   "cell_type": "code",
   "execution_count": 1,
   "id": "b72bd405",
   "metadata": {},
   "outputs": [],
   "source": [
    "import pandas as pd\n",
    "import numpy as np\n",
    "\n",
    "import matplotlib.pyplot as plt\n",
    "\n",
    "import statsmodels.api as sm\n",
    "import statsmodels.formula.api as smf\n",
    "from statsmodels.stats.diagnostic import het_breuschpagan, het_white\n",
    "from statsmodels.graphics.gofplots import qqplot\n",
    "from statsmodels.stats.stattools import jarque_bera\n",
    "\n",
    "import os\n",
    "from pathlib import Path"
   ]
  },
  {
   "cell_type": "code",
   "execution_count": 2,
   "id": "b8e3096a",
   "metadata": {},
   "outputs": [],
   "source": [
    "DATA_DIR = Path(\"../../../data/\")\n",
    "DATA_DIR.mkdir(parents=True, exist_ok=True)\n",
    "\n",
    "LATEX_OUT = Path(\"../../../docs/latex_utils/tables\")\n",
    "LATEX_OUT.mkdir(parents=True, exist_ok=True)\n",
    "\n",
    "PLOTS_DIR = Path(\"../../../plots/python/ex2/\")\n",
    "PLOTS_DIR.mkdir(parents=True, exist_ok=True)"
   ]
  },
  {
   "cell_type": "code",
   "execution_count": 3,
   "id": "03709c52",
   "metadata": {},
   "outputs": [],
   "source": [
    "def save_plot(\n",
    "    plot: plt.Figure,\n",
    "    filename: str,\n",
    "    format: str = \"png\",\n",
    "    dpi: int = 300,\n",
    "    close: bool = True,\n",
    "):\n",
    "    PLOTS_DIR.mkdir(parents=True, exist_ok=True)\n",
    "    filepath = PLOTS_DIR / f\"{filename}.{format}\"\n",
    "    try:\n",
    "        plot.savefig(filepath, format=format, dpi=dpi, bbox_inches=\"tight\")\n",
    "        if close:\n",
    "            plt.close(plot)\n",
    "        print(\n",
    "            f\"\\nPlot {filename}.{format} saved correctly in {PLOTS_DIR}/{filename}.{format}\"\n",
    "        )\n",
    "    except Exception as e:\n",
    "        print(f\"\\nCould not save plot {filename}.{format}. Reason: {e}\")"
   ]
  },
  {
   "cell_type": "code",
   "execution_count": 4,
   "id": "64439c85",
   "metadata": {},
   "outputs": [],
   "source": [
    "def save_latex_table(df, filename: str, rename_map: dict, caption: str, label: str):\n",
    "    try:\n",
    "        table_tex = df.rename(columns=rename_map).to_latex(\n",
    "            index=False,\n",
    "            float_format=\"%.4f\",\n",
    "            caption=caption,\n",
    "            label=label,\n",
    "        )\n",
    "        with open(LATEX_OUT / filename, \"w\") as f:\n",
    "            f.write(table_tex)\n",
    "        print(f\"\\nFile {filename} exported correctly in {LATEX_OUT}/{filename}\")\n",
    "    except Exception as e:\n",
    "        print(f\"\\nCould not export {filename}. Reason: {e}\")"
   ]
  },
  {
   "cell_type": "code",
   "execution_count": 5,
   "id": "0d9d6dd7",
   "metadata": {},
   "outputs": [
    {
     "name": "stdout",
     "output_type": "stream",
     "text": [
      "     COUNTRY     Y     X\n",
      "0  Australia     5   4.3\n",
      "1    Austria  11.1   4.6\n",
      "2    Belgium   3.2   2.4\n",
      "3     Canada   7.9   2.4\n",
      "4      Chile  25.5  26.4\n"
     ]
    }
   ],
   "source": [
    "df = pd.read_excel(os.path.join(DATA_DIR, \"Table11_9.xls\"))\n",
    "print(df.head())"
   ]
  },
  {
   "cell_type": "code",
   "execution_count": 6,
   "id": "84142b46",
   "metadata": {},
   "outputs": [],
   "source": [
    "cols = [c.strip() for c in df.columns]\n",
    "df.columns = cols\n",
    "col_country_candidates = [c for c in cols if c.lower() in [\"country\", \"pais\", \"país\"]]\n",
    "col_y_candidates = [\n",
    "    c\n",
    "    for c in cols\n",
    "    if c.strip().upper() in [\"Y\", \"STOCKS\", \"ACCIONES\", \"PRECIO_ACCIONES\"]\n",
    "]\n",
    "col_x_candidates = [\n",
    "    c\n",
    "    for c in cols\n",
    "    if c.strip().upper() in [\"X\", \"CPI\", \"CONSUMER\", \"PRECIOS_CONSUMIDOR\"]\n",
    "]"
   ]
  },
  {
   "cell_type": "code",
   "execution_count": 7,
   "id": "7edb5f12",
   "metadata": {},
   "outputs": [],
   "source": [
    "if not col_country_candidates:\n",
    "    if df.dtypes.iloc[0] == \"object\":\n",
    "        col_country = cols[0]\n",
    "    else:\n",
    "        col_country = \"Country\"\n",
    "        df[col_country] = [f\"C{i+1}\" for i in range(len(df))]\n",
    "else:\n",
    "    col_country = col_country_candidates[0]"
   ]
  },
  {
   "cell_type": "code",
   "execution_count": 8,
   "id": "536e927a",
   "metadata": {},
   "outputs": [],
   "source": [
    "if not col_y_candidates or not col_x_candidates:\n",
    "    num_cols = [c for c in cols if np.issubdtype(df[c].dtype, np.number)]\n",
    "    if len(num_cols) < 2:\n",
    "        raise ValueError(\n",
    "            \"No se encontraron suficientes columnas numéricas para Y y X en Table11_9.xlsx\"\n",
    "        )\n",
    "    col_y = num_cols[0] if not col_y_candidates else col_y_candidates[0]\n",
    "    col_x = num_cols[1] if not col_x_candidates else col_x_candidates[0]\n",
    "else:\n",
    "    col_y = col_y_candidates[0]\n",
    "    col_x = col_x_candidates[0]"
   ]
  },
  {
   "cell_type": "code",
   "execution_count": 9,
   "id": "830d7a90",
   "metadata": {},
   "outputs": [],
   "source": [
    "T119 = df[[col_country, col_y, col_x]].copy()\n",
    "T119.columns = [\"Country\", \"Y\", \"X\"]"
   ]
  },
  {
   "cell_type": "code",
   "execution_count": 10,
   "id": "6e5f5bde",
   "metadata": {},
   "outputs": [],
   "source": [
    "for c in [\"Y\", \"X\"]:\n",
    "    T119[c] = T119[c].astype(str).str.strip()\n",
    "    T119[c] = T119[c].str.replace(\",\", \".\", regex=False)\n",
    "    T119[c] = T119[c].str.replace(\"%\", \"\", regex=False)\n",
    "    T119[c] = T119[c].str.replace(r\"[^0-9.\\-]\", \"\", regex=True)\n",
    "    T119[c] = T119[c].str.replace(r\"\\.$\", \"\", regex=True)\n",
    "    T119[c] = pd.to_numeric(T119[c], errors=\"coerce\")"
   ]
  },
  {
   "cell_type": "code",
   "execution_count": 11,
   "id": "44055a4b",
   "metadata": {},
   "outputs": [],
   "source": [
    "before_rows = len(T119)\n",
    "T119 = T119.dropna(subset=[\"Y\", \"X\"]).reset_index(drop=True)\n",
    "after_rows = len(T119)\n",
    "if after_rows < before_rows:\n",
    "    print(\n",
    "        f\"Advertencia: se eliminaron {before_rows - after_rows} fila(s) por valores no numéricos en X/Y tras limpieza.\"\n",
    "    )"
   ]
  },
  {
   "cell_type": "code",
   "execution_count": 12,
   "id": "37f152e9",
   "metadata": {},
   "outputs": [
    {
     "name": "stdout",
     "output_type": "stream",
     "text": [
      "\n",
      "Plot q2_scatter_t119.png saved correctly in ../../../plots/python/ex2/q2_scatter_t119.png\n"
     ]
    }
   ],
   "source": [
    "fig, ax = plt.subplots(figsize=(6, 4))\n",
    "ax.scatter(T119[\"X\"], T119[\"Y\"])\n",
    "ax.set_xlabel(\"X: Δ% Precios al consumidor (anual)\")\n",
    "ax.set_ylabel(\"Y: Δ% Precios de acciones (anual)\")\n",
    "ax.set_title(\"Tabla 11.9: Dispersión Y vs X (20 países)\")\n",
    "\n",
    "mask_chile = T119[\"Country\"].str.lower().str.contains(\"chile\", na=False)\n",
    "if mask_chile.any():\n",
    "    row_chile = T119[mask_chile].iloc[0]\n",
    "    ax.annotate(\n",
    "        \"Chile\",\n",
    "        (row_chile[\"X\"], row_chile[\"Y\"]),\n",
    "        xytext=(5, 5),\n",
    "        textcoords=\"offset points\",\n",
    "    )\n",
    "\n",
    "save_plot(fig, filename=\"q2_scatter_t119\")"
   ]
  },
  {
   "cell_type": "code",
   "execution_count": 13,
   "id": "572daaba",
   "metadata": {},
   "outputs": [
    {
     "name": "stdout",
     "output_type": "stream",
     "text": [
      "                            OLS Regression Results                            \n",
      "==============================================================================\n",
      "Dep. Variable:                      Y   R-squared:                       0.658\n",
      "Model:                            OLS   Adj. R-squared:                  0.639\n",
      "Method:                 Least Squares   F-statistic:                     34.58\n",
      "Date:                Sat, 20 Sep 2025   Prob (F-statistic):           1.44e-05\n",
      "Time:                        20:08:11   Log-Likelihood:                -49.845\n",
      "No. Observations:                  20   AIC:                             103.7\n",
      "Df Residuals:                      18   BIC:                             105.7\n",
      "Df Model:                           1                                         \n",
      "Covariance Type:            nonrobust                                         \n",
      "==============================================================================\n",
      "                 coef    std err          t      P>|t|      [0.025      0.975]\n",
      "------------------------------------------------------------------------------\n",
      "Intercept      3.7781      0.999      3.781      0.001       1.679       5.877\n",
      "X              0.8033      0.137      5.880      0.000       0.516       1.090\n",
      "==============================================================================\n",
      "Omnibus:                        0.516   Durbin-Watson:                   2.298\n",
      "Prob(Omnibus):                  0.773   Jarque-Bera (JB):                0.574\n",
      "Skew:                           0.037   Prob(JB):                        0.751\n",
      "Kurtosis:                       2.173   Cond. No.                         10.7\n",
      "==============================================================================\n",
      "\n",
      "Notes:\n",
      "[1] Standard Errors assume that the covariance matrix of the errors is correctly specified.\n",
      "\n",
      "File q2_b_coefs.tex exported correctly in ../../../docs/latex_utils/tables/q2_b_coefs.tex\n",
      "\n",
      "Plot q2_b_resid_vs_fitted.png saved correctly in ../../../plots/python/ex2/q2_b_resid_vs_fitted.png\n",
      "\n",
      "Plot q2_b_resid_qqplot.png saved correctly in ../../../plots/python/ex2/q2_b_resid_qqplot.png\n",
      "\n",
      "File q2_b_hetero_tests.tex exported correctly in ../../../docs/latex_utils/tables/q2_b_hetero_tests.tex\n",
      "Jarque-Bera: stat=0.5739, pval=0.7506\n"
     ]
    }
   ],
   "source": [
    "model_b = smf.ols(\"Y ~ X\", data=T119).fit()\n",
    "print(model_b.summary())\n",
    "\n",
    "coef_b = (\n",
    "    model_b.summary2()\n",
    "    .tables[1]\n",
    "    .reset_index()\n",
    "    .rename(\n",
    "        columns={\n",
    "            \"index\": \"Parametro\",\n",
    "            \"Coef.\": \"Coef\",\n",
    "            \"Std.Err.\": \"EE\",\n",
    "            \"P>|t|\": \"pval\",\n",
    "        }\n",
    "    )\n",
    ")\n",
    "coef_b = coef_b[[\"Parametro\", \"Coef\", \"EE\", \"t\", \"pval\", \"[0.025\", \"0.975]\"]]\n",
    "coef_b.columns = [\"Parámetro\", \"Coef\", \"EE\", \"t\", \"p-valor\", \"IC 2.5%\", \"IC 97.5%\"]\n",
    "\n",
    "save_latex_table(\n",
    "    coef_b,\n",
    "    filename=\"q2_b_coefs.tex\",\n",
    "    rename_map={},\n",
    "    caption=\"Pregunta 2(b): Coeficientes OLS para Y~X (todos los países)\",\n",
    "    label=\"tab:q2b_coefs\",\n",
    ")\n",
    "\n",
    "fig2, ax2 = plt.subplots(figsize=(6, 4))\n",
    "ax2.scatter(model_b.fittedvalues, model_b.resid)\n",
    "ax2.axhline(0, linestyle=\"--\")\n",
    "ax2.set_xlabel(\"Valores ajustados\")\n",
    "ax2.set_ylabel(\"Residuos\")\n",
    "ax2.set_title(\"Q2(b): Residuos vs Ajustados (Y~X)\")\n",
    "save_plot(fig2, filename=\"q2_b_resid_vs_fitted\")\n",
    "\n",
    "fig3 = plt.figure(figsize=(6, 4))\n",
    "qqplot(model_b.resid, line=\"s\", ax=plt.gca())\n",
    "plt.title(\"Q2(b): QQ-plot de residuos (Y~X)\")\n",
    "save_plot(fig3, filename=\"q2_b_resid_qqplot\")\n",
    "\n",
    "exog = sm.add_constant(T119[[\"X\"]])\n",
    "BP_stat, BP_pval, fval, fpval = het_breuschpagan(model_b.resid, exog)\n",
    "W_stat, W_pval, fval_w, fpval_w = het_white(model_b.resid, exog)\n",
    "\n",
    "het_table_b = pd.DataFrame(\n",
    "    {\n",
    "        \"Prueba\": [\"Breusch-Pagan\", \"White\"],\n",
    "        \"Estadístico\": [BP_stat, W_stat],\n",
    "        \"p-valor\": [BP_pval, W_pval],\n",
    "    }\n",
    ")\n",
    "\n",
    "save_latex_table(\n",
    "    het_table_b,\n",
    "    filename=\"q2_b_hetero_tests.tex\",\n",
    "    rename_map={},\n",
    "    caption=\"Pregunta 2(b): Pruebas de heterocedasticidad para Y~X (todos)\",\n",
    "    label=\"tab:q2b_hetero\",\n",
    ")\n",
    "\n",
    "JB_stat, JB_pval, _, _ = jarque_bera(model_b.resid)\n",
    "print(f\"Jarque-Bera: stat={JB_stat:.4f}, pval={JB_pval:.4f}\")"
   ]
  },
  {
   "cell_type": "code",
   "execution_count": 14,
   "id": "5ac8b30c",
   "metadata": {},
   "outputs": [
    {
     "name": "stdout",
     "output_type": "stream",
     "text": [
      "                            OLS Regression Results                            \n",
      "==============================================================================\n",
      "Dep. Variable:                      Y   R-squared:                       0.062\n",
      "Model:                            OLS   Adj. R-squared:                  0.006\n",
      "Method:                 Least Squares   F-statistic:                     1.115\n",
      "Date:                Sat, 20 Sep 2025   Prob (F-statistic):              0.306\n",
      "Time:                        20:08:11   Log-Likelihood:                -47.643\n",
      "No. Observations:                  19   AIC:                             99.29\n",
      "Df Residuals:                      17   BIC:                             101.2\n",
      "Df Model:                           1                                         \n",
      "Covariance Type:            nonrobust                                         \n",
      "==============================================================================\n",
      "                 coef    std err          t      P>|t|      [0.025      0.975]\n",
      "------------------------------------------------------------------------------\n",
      "Intercept      4.9327      2.186      2.256      0.038       0.320       9.546\n",
      "X              0.5209      0.493      1.056      0.306      -0.520       1.562\n",
      "==============================================================================\n",
      "Omnibus:                        0.408   Durbin-Watson:                   2.350\n",
      "Prob(Omnibus):                  0.816   Jarque-Bera (JB):                0.525\n",
      "Skew:                           0.091   Prob(JB):                        0.769\n",
      "Kurtosis:                       2.206   Cond. No.                         14.1\n",
      "==============================================================================\n",
      "\n",
      "Notes:\n",
      "[1] Standard Errors assume that the covariance matrix of the errors is correctly specified.\n",
      "\n",
      "File q2_c_coefs_no_chile.tex exported correctly in ../../../docs/latex_utils/tables/q2_c_coefs_no_chile.tex\n",
      "\n",
      "Plot q2_c_resid_vs_fitted_no_chile.png saved correctly in ../../../plots/python/ex2/q2_c_resid_vs_fitted_no_chile.png\n",
      "\n",
      "Plot q2_c_resid_qqplot_no_chile.png saved correctly in ../../../plots/python/ex2/q2_c_resid_qqplot_no_chile.png\n",
      "\n",
      "File q2_c_hetero_tests_no_chile.tex exported correctly in ../../../docs/latex_utils/tables/q2_c_hetero_tests_no_chile.tex\n"
     ]
    },
    {
     "name": "stderr",
     "output_type": "stream",
     "text": [
      "/Users/enriquegomeztagle/anaconda3/envs/stats/lib/python3.11/site-packages/scipy/stats/_axis_nan_policy.py:430: UserWarning: `kurtosistest` p-value may be inaccurate with fewer than 20 observations; only n=19 observations were given.\n",
      "  return hypotest_fun_in(*args, **kwds)\n",
      "/Users/enriquegomeztagle/anaconda3/envs/stats/lib/python3.11/site-packages/scipy/stats/_axis_nan_policy.py:430: UserWarning: `kurtosistest` p-value may be inaccurate with fewer than 20 observations; only n=19 observations were given.\n",
      "  return hypotest_fun_in(*args, **kwds)\n"
     ]
    }
   ],
   "source": [
    "if mask_chile.any():\n",
    "    T119_no_chile = T119.loc[~mask_chile].reset_index(drop=True)\n",
    "else:\n",
    "    T119_no_chile = T119.copy()\n",
    "\n",
    "model_c = smf.ols(\"Y ~ X\", data=T119_no_chile).fit()\n",
    "print(model_c.summary())\n",
    "\n",
    "coef_c = (\n",
    "    model_c.summary2()\n",
    "    .tables[1]\n",
    "    .reset_index()\n",
    "    .rename(\n",
    "        columns={\n",
    "            \"index\": \"Parametro\",\n",
    "            \"Coef.\": \"Coef\",\n",
    "            \"Std.Err.\": \"EE\",\n",
    "            \"P>|t|\": \"pval\",\n",
    "        }\n",
    "    )\n",
    ")\n",
    "coef_c = coef_c[[\"Parametro\", \"Coef\", \"EE\", \"t\", \"pval\", \"[0.025\", \"0.975]\"]]\n",
    "coef_c.columns = [\"Parámetro\", \"Coef\", \"EE\", \"t\", \"p-valor\", \"IC 2.5%\", \"IC 97.5%\"]\n",
    "\n",
    "save_latex_table(\n",
    "    coef_c,\n",
    "    filename=\"q2_c_coefs_no_chile.tex\",\n",
    "    rename_map={},\n",
    "    caption=\"Pregunta 2(c): Coeficientes OLS para Y~X (sin Chile)\",\n",
    "    label=\"tab:q2c_coefs\",\n",
    ")\n",
    "\n",
    "fig4, ax4 = plt.subplots(figsize=(6, 4))\n",
    "ax4.scatter(model_c.fittedvalues, model_c.resid)\n",
    "ax4.axhline(0, linestyle=\"--\")\n",
    "ax4.set_xlabel(\"Valores ajustados\")\n",
    "ax4.set_ylabel(\"Residuos\")\n",
    "ax4.set_title(\"Q2(c): Residuos vs Ajustados (Y~X, sin Chile)\")\n",
    "save_plot(fig4, filename=\"q2_c_resid_vs_fitted_no_chile\")\n",
    "\n",
    "fig5 = plt.figure(figsize=(6, 4))\n",
    "qqplot(model_c.resid, line=\"s\", ax=plt.gca())\n",
    "plt.title(\"Q2(c): QQ-plot de residuos (Y~X, sin Chile)\")\n",
    "save_plot(plt.gcf(), filename=\"q2_c_resid_qqplot_no_chile\")\n",
    "\n",
    "exog_nc = sm.add_constant(T119_no_chile[[\"X\"]])\n",
    "BP_stat_c, BP_pval_c, fval_c, fpval_c = het_breuschpagan(model_c.resid, exog_nc)\n",
    "W_stat_c, W_pval_c, _, _ = het_white(model_c.resid, exog_nc)\n",
    "\n",
    "het_table_c = pd.DataFrame(\n",
    "    {\n",
    "        \"Prueba\": [\"Breusch-Pagan\", \"White\"],\n",
    "        \"Estadístico\": [BP_stat_c, W_stat_c],\n",
    "        \"p-valor\": [BP_pval_c, W_pval_c],\n",
    "    }\n",
    ")\n",
    "\n",
    "save_latex_table(\n",
    "    het_table_c,\n",
    "    filename=\"q2_c_hetero_tests_no_chile.tex\",\n",
    "    rename_map={},\n",
    "    caption=\"Pregunta 2(c): Pruebas de heterocedasticidad para Y~X (sin Chile)\",\n",
    "    label=\"tab:q2c_hetero\",\n",
    ")"
   ]
  },
  {
   "cell_type": "code",
   "execution_count": 15,
   "id": "1688d2d1",
   "metadata": {},
   "outputs": [
    {
     "name": "stdout",
     "output_type": "stream",
     "text": [
      "\n",
      "File q2_d_comparacion.tex exported correctly in ../../../docs/latex_utils/tables/q2_d_comparacion.tex\n"
     ]
    }
   ],
   "source": [
    "comp = pd.DataFrame(\n",
    "    {\n",
    "        \"Modelo\": [\"Todos\", \"Sin Chile\"],\n",
    "        \"beta0\": [\n",
    "            model_b.params.get(\"Intercept\", np.nan),\n",
    "            model_c.params.get(\"Intercept\", np.nan),\n",
    "        ],\n",
    "        \"beta1\": [model_b.params.get(\"X\", np.nan), model_c.params.get(\"X\", np.nan)],\n",
    "        \"R2\": [model_b.rsquared, model_c.rsquared],\n",
    "        \"BP pval\": [BP_pval, BP_pval_c],\n",
    "        \"White pval\": [W_pval, W_pval_c],\n",
    "    }\n",
    ")\n",
    "\n",
    "save_latex_table(\n",
    "    comp,\n",
    "    filename=\"q2_d_comparacion.tex\",\n",
    "    rename_map={\n",
    "        \"beta0\": \"$\\\\beta_0$\",\n",
    "        \"beta1\": \"$\\\\beta_1$\",\n",
    "        \"R2\": \"$R^2$\",\n",
    "        \"BP pval\": \"BP p-valor\",\n",
    "        \"White pval\": \"White p-valor\",\n",
    "    },\n",
    "    caption=\"Pregunta 2(d): Comparación de OLS y pruebas de heterocedasticidad (todos vs. sin Chile)\",\n",
    "    label=\"tab:q2d_comp\",\n",
    ")"
   ]
  },
  {
   "cell_type": "code",
   "execution_count": 16,
   "id": "b273a92f",
   "metadata": {},
   "outputs": [
    {
     "name": "stdout",
     "output_type": "stream",
     "text": [
      "\n",
      "Listo: Figuras guardadas en ../../../plots/python/ex2\n",
      "Tablas LaTeX guardadas en ../../../docs/latex_utils/tables\n"
     ]
    }
   ],
   "source": [
    "print(\"\\nListo: Figuras guardadas en\", PLOTS_DIR)\n",
    "print(\"Tablas LaTeX guardadas en\", LATEX_OUT)"
   ]
  }
 ],
 "metadata": {
  "kernelspec": {
   "display_name": "stats",
   "language": "python",
   "name": "python3"
  },
  "language_info": {
   "codemirror_mode": {
    "name": "ipython",
    "version": 3
   },
   "file_extension": ".py",
   "mimetype": "text/x-python",
   "name": "python",
   "nbconvert_exporter": "python",
   "pygments_lexer": "ipython3",
   "version": "3.11.11"
  }
 },
 "nbformat": 4,
 "nbformat_minor": 5
}
