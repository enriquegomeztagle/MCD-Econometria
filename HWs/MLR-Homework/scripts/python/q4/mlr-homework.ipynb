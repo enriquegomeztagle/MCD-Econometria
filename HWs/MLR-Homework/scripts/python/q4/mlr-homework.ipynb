{
 "cells": [
  {
   "cell_type": "code",
   "execution_count": 9,
   "id": "be738d07",
   "metadata": {},
   "outputs": [],
   "source": [
    "import pandas as pd\n",
    "import numpy as np\n",
    "\n",
    "import matplotlib.pyplot as plt\n",
    "\n",
    "from scipy import stats\n",
    "import statsmodels.api as sm\n",
    "import statsmodels.formula.api as smf\n",
    "from statsmodels.stats.outliers_influence import variance_inflation_factor"
   ]
  },
  {
   "cell_type": "code",
   "execution_count": 10,
   "id": "650f4550",
   "metadata": {},
   "outputs": [
    {
     "data": {
      "text/html": [
       "<div>\n",
       "<style scoped>\n",
       "    .dataframe tbody tr th:only-of-type {\n",
       "        vertical-align: middle;\n",
       "    }\n",
       "\n",
       "    .dataframe tbody tr th {\n",
       "        vertical-align: top;\n",
       "    }\n",
       "\n",
       "    .dataframe thead th {\n",
       "        text-align: right;\n",
       "    }\n",
       "</style>\n",
       "<table border=\"1\" class=\"dataframe\">\n",
       "  <thead>\n",
       "    <tr style=\"text-align: right;\">\n",
       "      <th></th>\n",
       "      <th>Año</th>\n",
       "      <th>C</th>\n",
       "      <th>Yd</th>\n",
       "      <th>Riqueza</th>\n",
       "      <th>Tasa</th>\n",
       "    </tr>\n",
       "  </thead>\n",
       "  <tbody>\n",
       "    <tr>\n",
       "      <th>0</th>\n",
       "      <td>1947</td>\n",
       "      <td>976.4</td>\n",
       "      <td>1035.2</td>\n",
       "      <td>5166.8</td>\n",
       "      <td>-10.351</td>\n",
       "    </tr>\n",
       "    <tr>\n",
       "      <th>1</th>\n",
       "      <td>1948</td>\n",
       "      <td>998.1</td>\n",
       "      <td>1090.0</td>\n",
       "      <td>5280.8</td>\n",
       "      <td>-4.720</td>\n",
       "    </tr>\n",
       "    <tr>\n",
       "      <th>2</th>\n",
       "      <td>1949</td>\n",
       "      <td>1025.3</td>\n",
       "      <td>1095.6</td>\n",
       "      <td>5607.4</td>\n",
       "      <td>1.044</td>\n",
       "    </tr>\n",
       "    <tr>\n",
       "      <th>3</th>\n",
       "      <td>1950</td>\n",
       "      <td>1090.9</td>\n",
       "      <td>1192.7</td>\n",
       "      <td>5759.5</td>\n",
       "      <td>0.407</td>\n",
       "    </tr>\n",
       "    <tr>\n",
       "      <th>4</th>\n",
       "      <td>1951</td>\n",
       "      <td>1107.7</td>\n",
       "      <td>1227.0</td>\n",
       "      <td>6081.6</td>\n",
       "      <td>-5.283</td>\n",
       "    </tr>\n",
       "  </tbody>\n",
       "</table>\n",
       "</div>"
      ],
      "text/plain": [
       "    Año       C      Yd  Riqueza    Tasa\n",
       "0  1947   976.4  1035.2   5166.8 -10.351\n",
       "1  1948   998.1  1090.0   5280.8  -4.720\n",
       "2  1949  1025.3  1095.6   5607.4   1.044\n",
       "3  1950  1090.9  1192.7   5759.5   0.407\n",
       "4  1951  1107.7  1227.0   6081.6  -5.283"
      ]
     },
     "execution_count": 10,
     "metadata": {},
     "output_type": "execute_result"
    }
   ],
   "source": [
    "raw = [\n",
    "    (1947, 976.4, 1035.2, 5166.8, -10.351),\n",
    "    (1948, 998.1, 1090.0, 5280.8, -4.720),\n",
    "    (1949, 1025.3, 1095.6, 5607.4, 1.044),\n",
    "    (1950, 1090.9, 1192.7, 5759.5, 0.407),\n",
    "    (1951, 1107.7, 1227.0, 6081.6, -5.283),\n",
    "    (1952, 1142.4, 1266.8, 6243.9, -0.277),\n",
    "    (1953, 1221.4, 1327.5, 6355.6, 0.561),\n",
    "    (1954, 1277.2, 1344.0, 6797.4, -0.138),\n",
    "    (1955, 1314.0, 1433.8, 7172.2, 0.262),\n",
    "    (1956, 1348.8, 1502.3, 7375.2, -0.736),\n",
    "    (1957, 1381.8, 1539.5, 7315.3, -0.261),\n",
    "    (1958, 1393.0, 1553.7, 7870.0, -0.575),\n",
    "    (1959, 1470.7, 1623.8, 8188.1, 2.296),\n",
    "    (1960, 1516.0, 1664.8, 8351.8, 1.511),\n",
    "    (1961, 1541.2, 1720.0, 8971.9, 1.296),\n",
    "    (1962, 1617.3, 1803.5, 9091.5, 1.396),\n",
    "    (1963, 1684.8, 1871.5, 9436.1, 2.085),\n",
    "    (1964, 1784.8, 2006.9, 10004.4, 2.027),\n",
    "    (1965, 1897.6, 2131.0, 10562.8, 2.112),\n",
    "    (1966, 2066.2, 2244.6, 11502.0, 2.220),\n",
    "    (1967, 2066.2, 2340.5, 12341.0, 2.120),\n",
    "    (1968, 2264.8, 2448.2, 12145.4, 1.055),\n",
    "    (1969, 2314.5, 2524.3, 11672.3, 1.732),\n",
    "    (1970, 2405.2, 2630.0, 11650.8, 1.176),\n",
    "    (1971, 2505.5, 2745.3, 12312.9, -0.712),\n",
    "    (1972, 2650.5, 2874.3, 13499.9, -0.156),\n",
    "    (1973, 2675.9, 3072.3, 13081.0, 1.414),\n",
    "    (1974, 2653.7, 3051.9, 11868.8, -1.043),\n",
    "    (1975, 2710.9, 3108.5, 12634.4, -3.534),\n",
    "    (1976, 2868.9, 3243.5, 13456.8, -0.657),\n",
    "    (1977, 2992.1, 3360.7, 13786.3, -1.190),\n",
    "    (1978, 3124.7, 3527.5, 14450.5, 0.113),\n",
    "    (1979, 3203.2, 3628.6, 15340.0, 1.704),\n",
    "    (1980, 3193.0, 3658.0, 15965.0, 2.298),\n",
    "    (1981, 3236.0, 3741.1, 15965.0, 4.704),\n",
    "    (1982, 3275.5, 3791.7, 16312.5, 4.449),\n",
    "    (1983, 3454.3, 3906.9, 16944.8, 5.691),\n",
    "    (1984, 3640.6, 4207.6, 17526.7, 5.848),\n",
    "    (1985, 3820.9, 4347.8, 19068.3, 4.331),\n",
    "    (1986, 3981.2, 4486.6, 20530.0, 3.768),\n",
    "    (1987, 4113.4, 4586.5, 21235.7, 2.819),\n",
    "    (1988, 4279.5, 4784.1, 22332.0, 3.287),\n",
    "    (1989, 4393.7, 4906.5, 23659.8, 4.318),\n",
    "    (1990, 4474.5, 5014.2, 23105.1, 3.595),\n",
    "    (1991, 4466.6, 5033.0, 24050.2, 1.803),\n",
    "    (1992, 4594.5, 5189.3, 24418.2, 1.007),\n",
    "    (1993, 4748.9, 5261.3, 25092.3, 0.625),\n",
    "    (1994, 4928.1, 5397.2, 25218.6, 2.206),\n",
    "    (1995, 5075.6, 5539.1, 27439.7, 3.333),\n",
    "    (1996, 5237.5, 5677.7, 29448.2, 3.083),\n",
    "    (1997, 5423.9, 5854.5, 32664.1, 3.120),\n",
    "    (1998, 5683.7, 6168.6, 35887.0, 3.584),\n",
    "    (1999, 5968.4, 6320.0, 39591.3, 3.245),\n",
    "    (2000, 6257.8, 6539.2, 38167.7, 3.576),\n",
    "]\n",
    "df = pd.DataFrame(raw, columns=[\"Año\", \"C\", \"Yd\", \"Riqueza\", \"Tasa\"])\n",
    "df.head()"
   ]
  },
  {
   "cell_type": "code",
   "execution_count": 11,
   "id": "244d7f03",
   "metadata": {},
   "outputs": [
    {
     "name": "stdout",
     "output_type": "stream",
     "text": [
      "=== Resumen statsmodels ===\n",
      "                            OLS Regression Results                            \n",
      "==============================================================================\n",
      "Dep. Variable:                      C   R-squared:                       0.999\n",
      "Model:                            OLS   Adj. R-squared:                  0.999\n",
      "Method:                 Least Squares   F-statistic:                 1.975e+04\n",
      "Date:                Tue, 09 Sep 2025   Prob (F-statistic):           8.05e-77\n",
      "Time:                        01:26:52   Log-Likelihood:                -279.77\n",
      "No. Observations:                  54   AIC:                             567.5\n",
      "Df Residuals:                      50   BIC:                             575.5\n",
      "Df Model:                           3                                         \n",
      "Covariance Type:            nonrobust                                         \n",
      "==============================================================================\n",
      "                 coef    std err          t      P>|t|      [0.025      0.975]\n",
      "------------------------------------------------------------------------------\n",
      "const         -3.0103     15.014     -0.201      0.842     -33.166      27.146\n",
      "Yd             0.7344      0.016     45.860      0.000       0.702       0.767\n",
      "Riqueza        0.0354      0.003     12.203      0.000       0.030       0.041\n",
      "Tasa          -5.7072      2.679     -2.130      0.038     -11.089      -0.326\n",
      "==============================================================================\n",
      "Omnibus:                        2.848   Durbin-Watson:                   1.313\n",
      "Prob(Omnibus):                  0.241   Jarque-Bera (JB):                1.991\n",
      "Skew:                           0.439   Prob(JB):                        0.370\n",
      "Kurtosis:                       3.336   Cond. No.                     4.48e+04\n",
      "==============================================================================\n",
      "\n",
      "Notes:\n",
      "[1] Standard Errors assume that the covariance matrix of the errors is correctly specified.\n",
      "[2] The condition number is large, 4.48e+04. This might indicate that there are\n",
      "strong multicollinearity or other numerical problems.\n"
     ]
    }
   ],
   "source": [
    "X = sm.add_constant(df[[\"Yd\", \"Riqueza\", \"Tasa\"]])\n",
    "ols = sm.OLS(df[\"C\"], X).fit()\n",
    "\n",
    "print(\"=== Resumen statsmodels ===\")\n",
    "print(ols.summary())"
   ]
  },
  {
   "cell_type": "code",
   "execution_count": 12,
   "id": "2826fea5",
   "metadata": {},
   "outputs": [
    {
     "name": "stdout",
     "output_type": "stream",
     "text": [
      "\n",
      "Ecuación ajustada:\n",
      "Ĉ_t = -3.010 + 0.7344·Yd_t + 0.0354·Riqueza_t + -5.7072·Tasa_t\n",
      "R² = 0.9992, R² ajustado = 0.9991, n = 54\n"
     ]
    }
   ],
   "source": [
    "b0, b1, b2, b3 = (\n",
    "    ols.params[\"const\"],\n",
    "    ols.params[\"Yd\"],\n",
    "    ols.params[\"Riqueza\"],\n",
    "    ols.params[\"Tasa\"],\n",
    ")\n",
    "print(\"\\nEcuación ajustada:\")\n",
    "print(f\"Ĉ_t = {b0:.3f} + {b1:.4f}·Yd_t + {b2:.4f}·Riqueza_t + {b3:.4f}·Tasa_t\")\n",
    "\n",
    "print(\n",
    "    f\"R² = {ols.rsquared:.4f}, R² ajustado = {ols.rsquared_adj:.4f}, n = {int(ols.nobs)}\"\n",
    ")"
   ]
  },
  {
   "cell_type": "code",
   "execution_count": 13,
   "id": "c1e53ccf",
   "metadata": {},
   "outputs": [
    {
     "name": "stdout",
     "output_type": "stream",
     "text": [
      "\n",
      "Signos esperados vs. estimados:\n",
      "Yd: coef = 0.7344, esperado pos, cumple? True\n",
      "Riqueza: coef = 0.0354, esperado pos, cumple? True\n",
      "Tasa: coef = -5.7072, esperado neg, cumple? True\n"
     ]
    }
   ],
   "source": [
    "esperados = {\"Yd\": \"pos\", \"Riqueza\": \"pos\", \"Tasa\": \"neg\"}\n",
    "\n",
    "print(\"\\nSignos esperados vs. estimados:\")\n",
    "for var, signo in esperados.items():\n",
    "    est = ols.params[var]\n",
    "    cumple = est > 0 if signo == \"pos\" else est < 0\n",
    "    print(f\"{var}: coef = {est:.4f}, esperado {signo}, cumple? {cumple}\")"
   ]
  },
  {
   "cell_type": "code",
   "execution_count": 14,
   "id": "8c9112c7",
   "metadata": {},
   "outputs": [
    {
     "name": "stdout",
     "output_type": "stream",
     "text": [
      "\n",
      "Betas estandarizados (para comparar magnitudes):\n",
      "Yd: 0.8018\n",
      "Riqueza: 0.2085\n",
      "Tasa: -0.0106\n"
     ]
    }
   ],
   "source": [
    "stdY = df[\"C\"].std()\n",
    "stds = df[[\"Yd\", \"Riqueza\", \"Tasa\"]].std()\n",
    "betas_std = {\n",
    "    \"Yd\": b1 * stds[\"Yd\"] / stdY,\n",
    "    \"Riqueza\": b2 * stds[\"Riqueza\"] / stdY,\n",
    "    \"Tasa\": b3 * stds[\"Tasa\"] / stdY,\n",
    "}\n",
    "print(\"\\nBetas estandarizados (para comparar magnitudes):\")\n",
    "for k, v in betas_std.items():\n",
    "    print(f\"{k}: {v:.4f}\")"
   ]
  },
  {
   "cell_type": "code",
   "execution_count": 15,
   "id": "fcc2a1b0",
   "metadata": {},
   "outputs": [
    {
     "name": "stdout",
     "output_type": "stream",
     "text": [
      "\n",
      "VIF (multicolinealidad, >10 es preocupante):\n",
      "  Variable    VIF\n",
      "0       Yd  65.89\n",
      "1  Riqueza  65.78\n",
      "2     Tasa   1.56\n"
     ]
    }
   ],
   "source": [
    "X_no_const = df[[\"Yd\", \"Riqueza\", \"Tasa\"]].astype(float)\n",
    "vif_data = pd.DataFrame()\n",
    "vif_data[\"Variable\"] = X_no_const.columns\n",
    "vif_data[\"VIF\"] = [\n",
    "    variance_inflation_factor(X_no_const.values, i) for i in range(X_no_const.shape[1])\n",
    "]\n",
    "print(\"\\nVIF (multicolinealidad, >10 es preocupante):\")\n",
    "print(vif_data.round(2))"
   ]
  },
  {
   "cell_type": "code",
   "execution_count": null,
   "id": "ce323639",
   "metadata": {},
   "outputs": [],
   "source": []
  }
 ],
 "metadata": {
  "kernelspec": {
   "display_name": "stats",
   "language": "python",
   "name": "python3"
  },
  "language_info": {
   "codemirror_mode": {
    "name": "ipython",
    "version": 3
   },
   "file_extension": ".py",
   "mimetype": "text/x-python",
   "name": "python",
   "nbconvert_exporter": "python",
   "pygments_lexer": "ipython3",
   "version": "3.11.11"
  }
 },
 "nbformat": 4,
 "nbformat_minor": 5
}
