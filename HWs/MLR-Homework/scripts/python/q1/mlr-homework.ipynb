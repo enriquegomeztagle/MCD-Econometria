{
 "cells": [
  {
   "cell_type": "code",
   "execution_count": null,
   "id": "be738d07",
   "metadata": {},
   "outputs": [],
   "source": [
    "import pandas as pd\n",
    "import numpy as np\n",
    "\n",
    "import matplotlib.pyplot as plt\n",
    "\n",
    "from scipy import stats\n",
    "import statsmodels.api as sm\n",
    "import statsmodels.formula.api as smf"
   ]
  },
  {
   "cell_type": "code",
   "execution_count": 12,
   "id": "139c24ba",
   "metadata": {},
   "outputs": [
    {
     "name": "stdout",
     "output_type": "stream",
     "text": [
      "   Y  X2  X3\n",
      "0  1   1   2\n",
      "1  3   2   1\n",
      "2  8   3  -3\n"
     ]
    }
   ],
   "source": [
    "data = pd.DataFrame({\"Y\": [1, 3, 8], \"X2\": [1, 2, 3], \"X3\": [2, 1, -3]})\n",
    "print(data)"
   ]
  },
  {
   "cell_type": "code",
   "execution_count": null,
   "id": "f5cc169c",
   "metadata": {},
   "outputs": [
    {
     "name": "stdout",
     "output_type": "stream",
     "text": [
      "\n",
      "Modelo 1:\n",
      " const   -3.0\n",
      "X2       3.5\n",
      "dtype: float64\n",
      "\n",
      "Modelo 2:\n",
      " const    4.000000\n",
      "X3      -1.357143\n",
      "dtype: float64\n",
      "\n",
      "Modelo 3:\n",
      " const    2.0\n",
      "X2       1.0\n",
      "X3      -1.0\n",
      "dtype: float64\n"
     ]
    }
   ],
   "source": [
    "# (1) Yi = α1 + α2*X2i + u\n",
    "X1 = sm.add_constant(data[\"X2\"])\n",
    "model1 = sm.OLS(data[\"Y\"], X1).fit()\n",
    "\n",
    "# (2) Yi = λ1 + λ3*X3i + u\n",
    "X2 = sm.add_constant(data[\"X3\"])\n",
    "model2 = sm.OLS(data[\"Y\"], X2).fit()\n",
    "\n",
    "# (3) Yi = β1 + β2*X2i + β3*X3i + u\n",
    "X3 = sm.add_constant(data[[\"X2\", \"X3\"]])\n",
    "model3 = sm.OLS(data[\"Y\"], X3).fit()\n",
    "\n",
    "print(\"\\nModelo 1:\\n\", model1.params)\n",
    "print(\"\\nModelo 2:\\n\", model2.params)\n",
    "print(\"\\nModelo 3:\\n\", model3.params)"
   ]
  },
  {
   "cell_type": "code",
   "execution_count": 14,
   "id": "26a9644a",
   "metadata": {},
   "outputs": [
    {
     "name": "stdout",
     "output_type": "stream",
     "text": [
      "α2 = 3.500000000000001\n",
      "β2 = 1.0000000000000013\n",
      "No, α2 ≠ β2\n",
      "\n",
      "λ3 = -1.3571428571428572\n",
      "β3 = -0.9999999999999993\n",
      "No, λ3 ≠ β3\n"
     ]
    }
   ],
   "source": [
    "alpha2 = model1.params[\"X2\"]\n",
    "beta2 = model3.params[\"X2\"]\n",
    "\n",
    "lambda3 = model2.params[\"X3\"]\n",
    "beta3 = model3.params[\"X3\"]\n",
    "\n",
    "print(\"α2 =\", alpha2)\n",
    "print(\"β2 =\", beta2)\n",
    "if abs(alpha2 - beta2) < 1e-6:\n",
    "    print(\"Sí, α2 = β2\")\n",
    "else:\n",
    "    print(\"No, α2 ≠ β2\")\n",
    "\n",
    "print(\"\\nλ3 =\", lambda3)\n",
    "print(\"β3 =\", beta3)\n",
    "if abs(lambda3 - beta3) < 1e-6:\n",
    "    print(\"Sí, λ3 = β3\")\n",
    "else:\n",
    "    print(\"No, λ3 ≠ β3\")"
   ]
  },
  {
   "cell_type": "code",
   "execution_count": null,
   "id": "cb3fde95",
   "metadata": {},
   "outputs": [],
   "source": []
  }
 ],
 "metadata": {
  "kernelspec": {
   "display_name": "stats",
   "language": "python",
   "name": "python3"
  },
  "language_info": {
   "codemirror_mode": {
    "name": "ipython",
    "version": 3
   },
   "file_extension": ".py",
   "mimetype": "text/x-python",
   "name": "python",
   "nbconvert_exporter": "python",
   "pygments_lexer": "ipython3",
   "version": "3.11.11"
  }
 },
 "nbformat": 4,
 "nbformat_minor": 5
}
